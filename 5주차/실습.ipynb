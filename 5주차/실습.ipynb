{
 "cells": [
  {
   "cell_type": "code",
   "execution_count": 20,
   "id": "8024f502-71e4-471e-829a-294dac61e9cb",
   "metadata": {},
   "outputs": [],
   "source": [
    "import pandas as pd\n",
    "import numpy as np\n",
    "from sklearn.impute import SimpleImputer"
   ]
  },
  {
   "cell_type": "code",
   "execution_count": 6,
   "id": "7205101b-1f42-4bcb-9868-7fe7bfcd61bf",
   "metadata": {},
   "outputs": [],
   "source": [
    "df = pd.DataFrame([[1.0, 2., 3., 4.],\n",
    "                   [5., 6., np.nan, 8.],\n",
    "                   [9., 10., 11., np.nan]\n",
    "                  ],\n",
    "                 columns = ['A','B','C','D'])"
   ]
  },
  {
   "cell_type": "code",
   "execution_count": 7,
   "id": "afa031ad-f220-4735-87a7-418ad7d6e758",
   "metadata": {},
   "outputs": [
    {
     "data": {
      "text/html": [
       "<div>\n",
       "<style scoped>\n",
       "    .dataframe tbody tr th:only-of-type {\n",
       "        vertical-align: middle;\n",
       "    }\n",
       "\n",
       "    .dataframe tbody tr th {\n",
       "        vertical-align: top;\n",
       "    }\n",
       "\n",
       "    .dataframe thead th {\n",
       "        text-align: right;\n",
       "    }\n",
       "</style>\n",
       "<table border=\"1\" class=\"dataframe\">\n",
       "  <thead>\n",
       "    <tr style=\"text-align: right;\">\n",
       "      <th></th>\n",
       "      <th>A</th>\n",
       "      <th>B</th>\n",
       "      <th>C</th>\n",
       "      <th>D</th>\n",
       "    </tr>\n",
       "  </thead>\n",
       "  <tbody>\n",
       "    <tr>\n",
       "      <th>0</th>\n",
       "      <td>1.0</td>\n",
       "      <td>2.0</td>\n",
       "      <td>3.0</td>\n",
       "      <td>4.0</td>\n",
       "    </tr>\n",
       "    <tr>\n",
       "      <th>1</th>\n",
       "      <td>5.0</td>\n",
       "      <td>6.0</td>\n",
       "      <td>NaN</td>\n",
       "      <td>8.0</td>\n",
       "    </tr>\n",
       "    <tr>\n",
       "      <th>2</th>\n",
       "      <td>9.0</td>\n",
       "      <td>10.0</td>\n",
       "      <td>11.0</td>\n",
       "      <td>NaN</td>\n",
       "    </tr>\n",
       "  </tbody>\n",
       "</table>\n",
       "</div>"
      ],
      "text/plain": [
       "     A     B     C    D\n",
       "0  1.0   2.0   3.0  4.0\n",
       "1  5.0   6.0   NaN  8.0\n",
       "2  9.0  10.0  11.0  NaN"
      ]
     },
     "execution_count": 7,
     "metadata": {},
     "output_type": "execute_result"
    }
   ],
   "source": [
    "df"
   ]
  },
  {
   "cell_type": "code",
   "execution_count": 9,
   "id": "771e8bfb-33d1-46ca-adc9-fc2383e6e31c",
   "metadata": {},
   "outputs": [
    {
     "data": {
      "text/html": [
       "<div>\n",
       "<style scoped>\n",
       "    .dataframe tbody tr th:only-of-type {\n",
       "        vertical-align: middle;\n",
       "    }\n",
       "\n",
       "    .dataframe tbody tr th {\n",
       "        vertical-align: top;\n",
       "    }\n",
       "\n",
       "    .dataframe thead th {\n",
       "        text-align: right;\n",
       "    }\n",
       "</style>\n",
       "<table border=\"1\" class=\"dataframe\">\n",
       "  <thead>\n",
       "    <tr style=\"text-align: right;\">\n",
       "      <th></th>\n",
       "      <th>A</th>\n",
       "      <th>B</th>\n",
       "      <th>C</th>\n",
       "      <th>D</th>\n",
       "    </tr>\n",
       "  </thead>\n",
       "  <tbody>\n",
       "    <tr>\n",
       "      <th>0</th>\n",
       "      <td>False</td>\n",
       "      <td>False</td>\n",
       "      <td>False</td>\n",
       "      <td>False</td>\n",
       "    </tr>\n",
       "    <tr>\n",
       "      <th>1</th>\n",
       "      <td>False</td>\n",
       "      <td>False</td>\n",
       "      <td>True</td>\n",
       "      <td>False</td>\n",
       "    </tr>\n",
       "    <tr>\n",
       "      <th>2</th>\n",
       "      <td>False</td>\n",
       "      <td>False</td>\n",
       "      <td>False</td>\n",
       "      <td>True</td>\n",
       "    </tr>\n",
       "  </tbody>\n",
       "</table>\n",
       "</div>"
      ],
      "text/plain": [
       "       A      B      C      D\n",
       "0  False  False  False  False\n",
       "1  False  False   True  False\n",
       "2  False  False  False   True"
      ]
     },
     "execution_count": 9,
     "metadata": {},
     "output_type": "execute_result"
    }
   ],
   "source": [
    "df.isna()"
   ]
  },
  {
   "cell_type": "code",
   "execution_count": 10,
   "id": "295e4036-17ae-4435-a483-8d8c5fa16e66",
   "metadata": {},
   "outputs": [
    {
     "data": {
      "text/plain": [
       "A    0\n",
       "B    0\n",
       "C    1\n",
       "D    1\n",
       "dtype: int64"
      ]
     },
     "execution_count": 10,
     "metadata": {},
     "output_type": "execute_result"
    }
   ],
   "source": [
    "df.isna().sum()"
   ]
  },
  {
   "cell_type": "code",
   "execution_count": 12,
   "id": "74e612c0-e5f7-49cb-a242-3b06ecdde345",
   "metadata": {},
   "outputs": [
    {
     "data": {
      "text/plain": [
       "2"
      ]
     },
     "execution_count": 12,
     "metadata": {},
     "output_type": "execute_result"
    }
   ],
   "source": [
    "df.isna().sum().sum()"
   ]
  },
  {
   "cell_type": "code",
   "execution_count": 14,
   "id": "bfc72861-8828-4ad7-a80d-23748aa9328a",
   "metadata": {},
   "outputs": [
    {
     "data": {
      "text/plain": [
       "0    0\n",
       "1    1\n",
       "2    1\n",
       "dtype: int64"
      ]
     },
     "execution_count": 14,
     "metadata": {},
     "output_type": "execute_result"
    }
   ],
   "source": [
    "df.isna().sum(axis = 1)"
   ]
  },
  {
   "cell_type": "code",
   "execution_count": 15,
   "id": "b3c5126b-5c40-4fbf-bbe7-a7dc34c77811",
   "metadata": {},
   "outputs": [
    {
     "data": {
      "text/html": [
       "<div>\n",
       "<style scoped>\n",
       "    .dataframe tbody tr th:only-of-type {\n",
       "        vertical-align: middle;\n",
       "    }\n",
       "\n",
       "    .dataframe tbody tr th {\n",
       "        vertical-align: top;\n",
       "    }\n",
       "\n",
       "    .dataframe thead th {\n",
       "        text-align: right;\n",
       "    }\n",
       "</style>\n",
       "<table border=\"1\" class=\"dataframe\">\n",
       "  <thead>\n",
       "    <tr style=\"text-align: right;\">\n",
       "      <th></th>\n",
       "      <th>A</th>\n",
       "      <th>B</th>\n",
       "      <th>C</th>\n",
       "      <th>D</th>\n",
       "    </tr>\n",
       "  </thead>\n",
       "  <tbody>\n",
       "    <tr>\n",
       "      <th>0</th>\n",
       "      <td>1.0</td>\n",
       "      <td>2.0</td>\n",
       "      <td>3.0</td>\n",
       "      <td>4.0</td>\n",
       "    </tr>\n",
       "  </tbody>\n",
       "</table>\n",
       "</div>"
      ],
      "text/plain": [
       "     A    B    C    D\n",
       "0  1.0  2.0  3.0  4.0"
      ]
     },
     "execution_count": 15,
     "metadata": {},
     "output_type": "execute_result"
    }
   ],
   "source": [
    "df.dropna()"
   ]
  },
  {
   "cell_type": "code",
   "execution_count": 16,
   "id": "9ae5bb74-63b2-4ecd-acab-ea8f55e71e42",
   "metadata": {},
   "outputs": [
    {
     "data": {
      "text/html": [
       "<div>\n",
       "<style scoped>\n",
       "    .dataframe tbody tr th:only-of-type {\n",
       "        vertical-align: middle;\n",
       "    }\n",
       "\n",
       "    .dataframe tbody tr th {\n",
       "        vertical-align: top;\n",
       "    }\n",
       "\n",
       "    .dataframe thead th {\n",
       "        text-align: right;\n",
       "    }\n",
       "</style>\n",
       "<table border=\"1\" class=\"dataframe\">\n",
       "  <thead>\n",
       "    <tr style=\"text-align: right;\">\n",
       "      <th></th>\n",
       "      <th>A</th>\n",
       "      <th>B</th>\n",
       "      <th>C</th>\n",
       "      <th>D</th>\n",
       "    </tr>\n",
       "  </thead>\n",
       "  <tbody>\n",
       "    <tr>\n",
       "      <th>0</th>\n",
       "      <td>1.0</td>\n",
       "      <td>2.0</td>\n",
       "      <td>3.0</td>\n",
       "      <td>4.0</td>\n",
       "    </tr>\n",
       "    <tr>\n",
       "      <th>1</th>\n",
       "      <td>5.0</td>\n",
       "      <td>6.0</td>\n",
       "      <td>NaN</td>\n",
       "      <td>8.0</td>\n",
       "    </tr>\n",
       "    <tr>\n",
       "      <th>2</th>\n",
       "      <td>9.0</td>\n",
       "      <td>10.0</td>\n",
       "      <td>11.0</td>\n",
       "      <td>NaN</td>\n",
       "    </tr>\n",
       "  </tbody>\n",
       "</table>\n",
       "</div>"
      ],
      "text/plain": [
       "     A     B     C    D\n",
       "0  1.0   2.0   3.0  4.0\n",
       "1  5.0   6.0   NaN  8.0\n",
       "2  9.0  10.0  11.0  NaN"
      ]
     },
     "execution_count": 16,
     "metadata": {},
     "output_type": "execute_result"
    }
   ],
   "source": [
    "df.dropna(how = 'all')"
   ]
  },
  {
   "cell_type": "code",
   "execution_count": 17,
   "id": "8959a621-3bfd-4e9c-8df4-5dea8b9fe801",
   "metadata": {},
   "outputs": [
    {
     "data": {
      "text/html": [
       "<div>\n",
       "<style scoped>\n",
       "    .dataframe tbody tr th:only-of-type {\n",
       "        vertical-align: middle;\n",
       "    }\n",
       "\n",
       "    .dataframe tbody tr th {\n",
       "        vertical-align: top;\n",
       "    }\n",
       "\n",
       "    .dataframe thead th {\n",
       "        text-align: right;\n",
       "    }\n",
       "</style>\n",
       "<table border=\"1\" class=\"dataframe\">\n",
       "  <thead>\n",
       "    <tr style=\"text-align: right;\">\n",
       "      <th></th>\n",
       "      <th>A</th>\n",
       "      <th>B</th>\n",
       "      <th>C</th>\n",
       "      <th>D</th>\n",
       "    </tr>\n",
       "  </thead>\n",
       "  <tbody>\n",
       "    <tr>\n",
       "      <th>0</th>\n",
       "      <td>1.0</td>\n",
       "      <td>2.0</td>\n",
       "      <td>3.0</td>\n",
       "      <td>4.0</td>\n",
       "    </tr>\n",
       "    <tr>\n",
       "      <th>2</th>\n",
       "      <td>9.0</td>\n",
       "      <td>10.0</td>\n",
       "      <td>11.0</td>\n",
       "      <td>NaN</td>\n",
       "    </tr>\n",
       "  </tbody>\n",
       "</table>\n",
       "</div>"
      ],
      "text/plain": [
       "     A     B     C    D\n",
       "0  1.0   2.0   3.0  4.0\n",
       "2  9.0  10.0  11.0  NaN"
      ]
     },
     "execution_count": 17,
     "metadata": {},
     "output_type": "execute_result"
    }
   ],
   "source": [
    "df.dropna(subset = ['C'])"
   ]
  },
  {
   "cell_type": "code",
   "execution_count": 18,
   "id": "683c3417-fed8-4a65-85b9-9fd63bc40cb5",
   "metadata": {},
   "outputs": [
    {
     "data": {
      "text/html": [
       "<div>\n",
       "<style scoped>\n",
       "    .dataframe tbody tr th:only-of-type {\n",
       "        vertical-align: middle;\n",
       "    }\n",
       "\n",
       "    .dataframe tbody tr th {\n",
       "        vertical-align: top;\n",
       "    }\n",
       "\n",
       "    .dataframe thead th {\n",
       "        text-align: right;\n",
       "    }\n",
       "</style>\n",
       "<table border=\"1\" class=\"dataframe\">\n",
       "  <thead>\n",
       "    <tr style=\"text-align: right;\">\n",
       "      <th></th>\n",
       "      <th>A</th>\n",
       "      <th>B</th>\n",
       "      <th>C</th>\n",
       "      <th>D</th>\n",
       "    </tr>\n",
       "  </thead>\n",
       "  <tbody>\n",
       "    <tr>\n",
       "      <th>0</th>\n",
       "      <td>1.0</td>\n",
       "      <td>2.0</td>\n",
       "      <td>3.0</td>\n",
       "      <td>4.0</td>\n",
       "    </tr>\n",
       "    <tr>\n",
       "      <th>1</th>\n",
       "      <td>5.0</td>\n",
       "      <td>6.0</td>\n",
       "      <td>NaN</td>\n",
       "      <td>8.0</td>\n",
       "    </tr>\n",
       "    <tr>\n",
       "      <th>2</th>\n",
       "      <td>9.0</td>\n",
       "      <td>10.0</td>\n",
       "      <td>11.0</td>\n",
       "      <td>NaN</td>\n",
       "    </tr>\n",
       "  </tbody>\n",
       "</table>\n",
       "</div>"
      ],
      "text/plain": [
       "     A     B     C    D\n",
       "0  1.0   2.0   3.0  4.0\n",
       "1  5.0   6.0   NaN  8.0\n",
       "2  9.0  10.0  11.0  NaN"
      ]
     },
     "execution_count": 18,
     "metadata": {},
     "output_type": "execute_result"
    }
   ],
   "source": [
    "df.dropna(thresh=3)"
   ]
  },
  {
   "cell_type": "code",
   "execution_count": 19,
   "id": "32908537-2fc0-4173-b710-5618d1dc58e2",
   "metadata": {},
   "outputs": [
    {
     "data": {
      "text/html": [
       "<div>\n",
       "<style scoped>\n",
       "    .dataframe tbody tr th:only-of-type {\n",
       "        vertical-align: middle;\n",
       "    }\n",
       "\n",
       "    .dataframe tbody tr th {\n",
       "        vertical-align: top;\n",
       "    }\n",
       "\n",
       "    .dataframe thead th {\n",
       "        text-align: right;\n",
       "    }\n",
       "</style>\n",
       "<table border=\"1\" class=\"dataframe\">\n",
       "  <thead>\n",
       "    <tr style=\"text-align: right;\">\n",
       "      <th></th>\n",
       "      <th>A</th>\n",
       "      <th>B</th>\n",
       "      <th>C</th>\n",
       "      <th>D</th>\n",
       "    </tr>\n",
       "  </thead>\n",
       "  <tbody>\n",
       "    <tr>\n",
       "      <th>0</th>\n",
       "      <td>1.0</td>\n",
       "      <td>2.0</td>\n",
       "      <td>3.0</td>\n",
       "      <td>4.0</td>\n",
       "    </tr>\n",
       "  </tbody>\n",
       "</table>\n",
       "</div>"
      ],
      "text/plain": [
       "     A    B    C    D\n",
       "0  1.0  2.0  3.0  4.0"
      ]
     },
     "execution_count": 19,
     "metadata": {},
     "output_type": "execute_result"
    }
   ],
   "source": [
    "df.dropna(thresh=4)"
   ]
  },
  {
   "cell_type": "code",
   "execution_count": 24,
   "id": "6f39859d-4b50-4ad1-9e87-4477b29502bf",
   "metadata": {},
   "outputs": [
    {
     "data": {
      "text/plain": [
       "array([[ 1.,  2.,  3.,  4.],\n",
       "       [ 5.,  6.,  7.,  8.],\n",
       "       [ 9., 10., 11.,  6.]])"
      ]
     },
     "execution_count": 24,
     "metadata": {},
     "output_type": "execute_result"
    }
   ],
   "source": [
    "simr = SimpleImputer(missing_values=np.nan, strategy = 'mean')\n",
    "imputed_data = simr.fit_transform(df)\n",
    "imputed_data"
   ]
  },
  {
   "cell_type": "code",
   "execution_count": 28,
   "id": "a0b2c2f7-3bd6-40fe-b69d-5b828d5d2e0e",
   "metadata": {},
   "outputs": [
    {
     "data": {
      "text/html": [
       "<div>\n",
       "<style scoped>\n",
       "    .dataframe tbody tr th:only-of-type {\n",
       "        vertical-align: middle;\n",
       "    }\n",
       "\n",
       "    .dataframe tbody tr th {\n",
       "        vertical-align: top;\n",
       "    }\n",
       "\n",
       "    .dataframe thead th {\n",
       "        text-align: right;\n",
       "    }\n",
       "</style>\n",
       "<table border=\"1\" class=\"dataframe\">\n",
       "  <thead>\n",
       "    <tr style=\"text-align: right;\">\n",
       "      <th></th>\n",
       "      <th>A</th>\n",
       "      <th>B</th>\n",
       "      <th>C</th>\n",
       "      <th>D</th>\n",
       "    </tr>\n",
       "  </thead>\n",
       "  <tbody>\n",
       "    <tr>\n",
       "      <th>0</th>\n",
       "      <td>1.0</td>\n",
       "      <td>2.0</td>\n",
       "      <td>3.0</td>\n",
       "      <td>4.0</td>\n",
       "    </tr>\n",
       "    <tr>\n",
       "      <th>1</th>\n",
       "      <td>5.0</td>\n",
       "      <td>6.0</td>\n",
       "      <td>11.0</td>\n",
       "      <td>8.0</td>\n",
       "    </tr>\n",
       "    <tr>\n",
       "      <th>2</th>\n",
       "      <td>9.0</td>\n",
       "      <td>10.0</td>\n",
       "      <td>11.0</td>\n",
       "      <td>NaN</td>\n",
       "    </tr>\n",
       "  </tbody>\n",
       "</table>\n",
       "</div>"
      ],
      "text/plain": [
       "     A     B     C    D\n",
       "0  1.0   2.0   3.0  4.0\n",
       "1  5.0   6.0  11.0  8.0\n",
       "2  9.0  10.0  11.0  NaN"
      ]
     },
     "execution_count": 28,
     "metadata": {},
     "output_type": "execute_result"
    }
   ],
   "source": [
    "df.fillna(method = 'bfill')"
   ]
  },
  {
   "cell_type": "code",
   "execution_count": 29,
   "id": "699bbb0f-a484-49f5-9c17-8eec6ad30964",
   "metadata": {},
   "outputs": [
    {
     "data": {
      "text/html": [
       "<div>\n",
       "<style scoped>\n",
       "    .dataframe tbody tr th:only-of-type {\n",
       "        vertical-align: middle;\n",
       "    }\n",
       "\n",
       "    .dataframe tbody tr th {\n",
       "        vertical-align: top;\n",
       "    }\n",
       "\n",
       "    .dataframe thead th {\n",
       "        text-align: right;\n",
       "    }\n",
       "</style>\n",
       "<table border=\"1\" class=\"dataframe\">\n",
       "  <thead>\n",
       "    <tr style=\"text-align: right;\">\n",
       "      <th></th>\n",
       "      <th>A</th>\n",
       "      <th>B</th>\n",
       "      <th>C</th>\n",
       "      <th>D</th>\n",
       "    </tr>\n",
       "  </thead>\n",
       "  <tbody>\n",
       "    <tr>\n",
       "      <th>0</th>\n",
       "      <td>1.0</td>\n",
       "      <td>2.0</td>\n",
       "      <td>3.0</td>\n",
       "      <td>4.0</td>\n",
       "    </tr>\n",
       "    <tr>\n",
       "      <th>1</th>\n",
       "      <td>5.0</td>\n",
       "      <td>6.0</td>\n",
       "      <td>3.0</td>\n",
       "      <td>8.0</td>\n",
       "    </tr>\n",
       "    <tr>\n",
       "      <th>2</th>\n",
       "      <td>9.0</td>\n",
       "      <td>10.0</td>\n",
       "      <td>11.0</td>\n",
       "      <td>8.0</td>\n",
       "    </tr>\n",
       "  </tbody>\n",
       "</table>\n",
       "</div>"
      ],
      "text/plain": [
       "     A     B     C    D\n",
       "0  1.0   2.0   3.0  4.0\n",
       "1  5.0   6.0   3.0  8.0\n",
       "2  9.0  10.0  11.0  8.0"
      ]
     },
     "execution_count": 29,
     "metadata": {},
     "output_type": "execute_result"
    }
   ],
   "source": [
    "df.fillna(method = 'ffill')"
   ]
  },
  {
   "cell_type": "code",
   "execution_count": 30,
   "id": "167922dc-1427-46f3-9794-215ba8facd3c",
   "metadata": {},
   "outputs": [
    {
     "data": {
      "text/html": [
       "<div>\n",
       "<style scoped>\n",
       "    .dataframe tbody tr th:only-of-type {\n",
       "        vertical-align: middle;\n",
       "    }\n",
       "\n",
       "    .dataframe tbody tr th {\n",
       "        vertical-align: top;\n",
       "    }\n",
       "\n",
       "    .dataframe thead th {\n",
       "        text-align: right;\n",
       "    }\n",
       "</style>\n",
       "<table border=\"1\" class=\"dataframe\">\n",
       "  <thead>\n",
       "    <tr style=\"text-align: right;\">\n",
       "      <th></th>\n",
       "      <th>A</th>\n",
       "      <th>B</th>\n",
       "      <th>C</th>\n",
       "      <th>D</th>\n",
       "    </tr>\n",
       "  </thead>\n",
       "  <tbody>\n",
       "    <tr>\n",
       "      <th>0</th>\n",
       "      <td>1.0</td>\n",
       "      <td>2.0</td>\n",
       "      <td>3.0</td>\n",
       "      <td>4.0</td>\n",
       "    </tr>\n",
       "    <tr>\n",
       "      <th>1</th>\n",
       "      <td>5.0</td>\n",
       "      <td>6.0</td>\n",
       "      <td>7.0</td>\n",
       "      <td>8.0</td>\n",
       "    </tr>\n",
       "    <tr>\n",
       "      <th>2</th>\n",
       "      <td>9.0</td>\n",
       "      <td>10.0</td>\n",
       "      <td>11.0</td>\n",
       "      <td>6.0</td>\n",
       "    </tr>\n",
       "  </tbody>\n",
       "</table>\n",
       "</div>"
      ],
      "text/plain": [
       "     A     B     C    D\n",
       "0  1.0   2.0   3.0  4.0\n",
       "1  5.0   6.0   7.0  8.0\n",
       "2  9.0  10.0  11.0  6.0"
      ]
     },
     "execution_count": 30,
     "metadata": {},
     "output_type": "execute_result"
    }
   ],
   "source": [
    "df.apply(lambda x: x.fillna(x.mean()))"
   ]
  },
  {
   "cell_type": "code",
   "execution_count": 31,
   "id": "9b5fdb10-cd16-4708-bc2d-d252e897fda8",
   "metadata": {},
   "outputs": [
    {
     "data": {
      "text/html": [
       "<div>\n",
       "<style scoped>\n",
       "    .dataframe tbody tr th:only-of-type {\n",
       "        vertical-align: middle;\n",
       "    }\n",
       "\n",
       "    .dataframe tbody tr th {\n",
       "        vertical-align: top;\n",
       "    }\n",
       "\n",
       "    .dataframe thead th {\n",
       "        text-align: right;\n",
       "    }\n",
       "</style>\n",
       "<table border=\"1\" class=\"dataframe\">\n",
       "  <thead>\n",
       "    <tr style=\"text-align: right;\">\n",
       "      <th></th>\n",
       "      <th>color</th>\n",
       "      <th>size</th>\n",
       "      <th>price</th>\n",
       "      <th>classlabel</th>\n",
       "    </tr>\n",
       "  </thead>\n",
       "  <tbody>\n",
       "    <tr>\n",
       "      <th>0</th>\n",
       "      <td>green</td>\n",
       "      <td>M</td>\n",
       "      <td>10.1</td>\n",
       "      <td>class1</td>\n",
       "    </tr>\n",
       "    <tr>\n",
       "      <th>1</th>\n",
       "      <td>red</td>\n",
       "      <td>L</td>\n",
       "      <td>13.5</td>\n",
       "      <td>class2</td>\n",
       "    </tr>\n",
       "    <tr>\n",
       "      <th>2</th>\n",
       "      <td>blue</td>\n",
       "      <td>XL</td>\n",
       "      <td>15.3</td>\n",
       "      <td>class1</td>\n",
       "    </tr>\n",
       "  </tbody>\n",
       "</table>\n",
       "</div>"
      ],
      "text/plain": [
       "   color size  price classlabel\n",
       "0  green    M   10.1     class1\n",
       "1    red    L   13.5     class2\n",
       "2   blue   XL   15.3     class1"
      ]
     },
     "execution_count": 31,
     "metadata": {},
     "output_type": "execute_result"
    }
   ],
   "source": [
    "df = pd.DataFrame([['green','M',10.1,'class1'],\n",
    "                  ['red','L',13.5,'class2'],\n",
    "                  ['blue','XL',15.3,'class1']],\n",
    "                 columns = ['color','size','price','classlabel'])\n",
    "df"
   ]
  },
  {
   "cell_type": "code",
   "execution_count": 32,
   "id": "8cce7587-9c3e-4fdb-82cb-0abff962e0ba",
   "metadata": {},
   "outputs": [],
   "source": [
    "size_mapping = {\n",
    "    'XL': 3,\n",
    "    'L' : 2,\n",
    "    'M' : 1\n",
    "}"
   ]
  },
  {
   "cell_type": "code",
   "execution_count": 33,
   "id": "07319a7f-3257-4e07-bbdf-c53425a0a5bf",
   "metadata": {},
   "outputs": [],
   "source": [
    "df['size'] = df['size'].map(size_mapping)"
   ]
  },
  {
   "cell_type": "code",
   "execution_count": 34,
   "id": "1af5b789-2884-4828-a2a0-045bb55cca6b",
   "metadata": {},
   "outputs": [
    {
     "data": {
      "text/html": [
       "<div>\n",
       "<style scoped>\n",
       "    .dataframe tbody tr th:only-of-type {\n",
       "        vertical-align: middle;\n",
       "    }\n",
       "\n",
       "    .dataframe tbody tr th {\n",
       "        vertical-align: top;\n",
       "    }\n",
       "\n",
       "    .dataframe thead th {\n",
       "        text-align: right;\n",
       "    }\n",
       "</style>\n",
       "<table border=\"1\" class=\"dataframe\">\n",
       "  <thead>\n",
       "    <tr style=\"text-align: right;\">\n",
       "      <th></th>\n",
       "      <th>color</th>\n",
       "      <th>size</th>\n",
       "      <th>price</th>\n",
       "      <th>classlabel</th>\n",
       "    </tr>\n",
       "  </thead>\n",
       "  <tbody>\n",
       "    <tr>\n",
       "      <th>0</th>\n",
       "      <td>green</td>\n",
       "      <td>1</td>\n",
       "      <td>10.1</td>\n",
       "      <td>class1</td>\n",
       "    </tr>\n",
       "    <tr>\n",
       "      <th>1</th>\n",
       "      <td>red</td>\n",
       "      <td>2</td>\n",
       "      <td>13.5</td>\n",
       "      <td>class2</td>\n",
       "    </tr>\n",
       "    <tr>\n",
       "      <th>2</th>\n",
       "      <td>blue</td>\n",
       "      <td>3</td>\n",
       "      <td>15.3</td>\n",
       "      <td>class1</td>\n",
       "    </tr>\n",
       "  </tbody>\n",
       "</table>\n",
       "</div>"
      ],
      "text/plain": [
       "   color  size  price classlabel\n",
       "0  green     1   10.1     class1\n",
       "1    red     2   13.5     class2\n",
       "2   blue     3   15.3     class1"
      ]
     },
     "execution_count": 34,
     "metadata": {},
     "output_type": "execute_result"
    }
   ],
   "source": [
    "df"
   ]
  },
  {
   "cell_type": "code",
   "execution_count": 36,
   "id": "b60c7b07-f5de-4936-9974-bd839f0736e4",
   "metadata": {},
   "outputs": [],
   "source": [
    "inv_size_mapping = {v: k for k,v in size_mapping.items()}"
   ]
  },
  {
   "cell_type": "code",
   "execution_count": 37,
   "id": "e969dff0-ba0a-42eb-8729-6f32a59c499a",
   "metadata": {},
   "outputs": [
    {
     "data": {
      "text/plain": [
       "{3: 'XL', 2: 'L', 1: 'M'}"
      ]
     },
     "execution_count": 37,
     "metadata": {},
     "output_type": "execute_result"
    }
   ],
   "source": [
    "inv_size_mapping"
   ]
  },
  {
   "cell_type": "code",
   "execution_count": 38,
   "id": "e8ad06a2-c6ba-492e-8d6b-cc7588a1c677",
   "metadata": {},
   "outputs": [
    {
     "data": {
      "text/plain": [
       "0     M\n",
       "1     L\n",
       "2    XL\n",
       "Name: size, dtype: object"
      ]
     },
     "execution_count": 38,
     "metadata": {},
     "output_type": "execute_result"
    }
   ],
   "source": [
    "df['size'].map(inv_size_mapping)"
   ]
  },
  {
   "cell_type": "code",
   "execution_count": 39,
   "id": "77f25222-13dd-4bf0-9ff5-b65dc290bbb9",
   "metadata": {},
   "outputs": [],
   "source": [
    "class_mapping = {label:idx for idx, label in enumerate(np.unique(df['classlabel']))}"
   ]
  },
  {
   "cell_type": "code",
   "execution_count": 40,
   "id": "aece1064-4f21-4781-b549-cbb4583b1c4f",
   "metadata": {},
   "outputs": [
    {
     "data": {
      "text/plain": [
       "{'class1': 0, 'class2': 1}"
      ]
     },
     "execution_count": 40,
     "metadata": {},
     "output_type": "execute_result"
    }
   ],
   "source": [
    "class_mapping"
   ]
  },
  {
   "cell_type": "code",
   "execution_count": 41,
   "id": "eae82583-b4e2-4ac4-a360-5c34acbdf3aa",
   "metadata": {},
   "outputs": [],
   "source": [
    "df['classlabel'] = df['classlabel'].map(class_mapping)"
   ]
  },
  {
   "cell_type": "code",
   "execution_count": 42,
   "id": "95b276df-48ad-459a-a3a0-7cfba003681a",
   "metadata": {},
   "outputs": [
    {
     "data": {
      "text/html": [
       "<div>\n",
       "<style scoped>\n",
       "    .dataframe tbody tr th:only-of-type {\n",
       "        vertical-align: middle;\n",
       "    }\n",
       "\n",
       "    .dataframe tbody tr th {\n",
       "        vertical-align: top;\n",
       "    }\n",
       "\n",
       "    .dataframe thead th {\n",
       "        text-align: right;\n",
       "    }\n",
       "</style>\n",
       "<table border=\"1\" class=\"dataframe\">\n",
       "  <thead>\n",
       "    <tr style=\"text-align: right;\">\n",
       "      <th></th>\n",
       "      <th>color</th>\n",
       "      <th>size</th>\n",
       "      <th>price</th>\n",
       "      <th>classlabel</th>\n",
       "    </tr>\n",
       "  </thead>\n",
       "  <tbody>\n",
       "    <tr>\n",
       "      <th>0</th>\n",
       "      <td>green</td>\n",
       "      <td>1</td>\n",
       "      <td>10.1</td>\n",
       "      <td>0</td>\n",
       "    </tr>\n",
       "    <tr>\n",
       "      <th>1</th>\n",
       "      <td>red</td>\n",
       "      <td>2</td>\n",
       "      <td>13.5</td>\n",
       "      <td>1</td>\n",
       "    </tr>\n",
       "    <tr>\n",
       "      <th>2</th>\n",
       "      <td>blue</td>\n",
       "      <td>3</td>\n",
       "      <td>15.3</td>\n",
       "      <td>0</td>\n",
       "    </tr>\n",
       "  </tbody>\n",
       "</table>\n",
       "</div>"
      ],
      "text/plain": [
       "   color  size  price  classlabel\n",
       "0  green     1   10.1           0\n",
       "1    red     2   13.5           1\n",
       "2   blue     3   15.3           0"
      ]
     },
     "execution_count": 42,
     "metadata": {},
     "output_type": "execute_result"
    }
   ],
   "source": [
    "df"
   ]
  },
  {
   "cell_type": "code",
   "execution_count": 43,
   "id": "18d630f0-81f0-46e0-a98c-8f3878c88eb9",
   "metadata": {},
   "outputs": [],
   "source": [
    "inv_class_mapping = {k:v for v, k in class_mapping.items()}"
   ]
  },
  {
   "cell_type": "code",
   "execution_count": 45,
   "id": "4c402b85-dc0a-4072-9f8b-0310cfc35b66",
   "metadata": {},
   "outputs": [
    {
     "data": {
      "text/plain": [
       "{0: 'class1', 1: 'class2'}"
      ]
     },
     "execution_count": 45,
     "metadata": {},
     "output_type": "execute_result"
    }
   ],
   "source": [
    "inv_class_mapping"
   ]
  },
  {
   "cell_type": "code",
   "execution_count": 46,
   "id": "87694f6a-ac4d-4990-b506-97902a089797",
   "metadata": {},
   "outputs": [],
   "source": [
    "from sklearn.preprocessing import LabelEncoder\n",
    "class_le = LabelEncoder()\n",
    "y = class_le.fit_transform(df['classlabel'].values)"
   ]
  },
  {
   "cell_type": "code",
   "execution_count": 47,
   "id": "0d35e8ad-26a5-4688-bc16-1d0ffcb7a7f3",
   "metadata": {},
   "outputs": [
    {
     "data": {
      "text/plain": [
       "array([0, 1, 0], dtype=int64)"
      ]
     },
     "execution_count": 47,
     "metadata": {},
     "output_type": "execute_result"
    }
   ],
   "source": [
    "y"
   ]
  },
  {
   "cell_type": "code",
   "execution_count": 50,
   "id": "dc828a5e-31b4-42df-9f6e-5125efc2345b",
   "metadata": {},
   "outputs": [
    {
     "data": {
      "text/plain": [
       "array([0, 1, 0], dtype=int64)"
      ]
     },
     "execution_count": 50,
     "metadata": {},
     "output_type": "execute_result"
    }
   ],
   "source": [
    "class_le.inverse_transform(y)"
   ]
  },
  {
   "cell_type": "code",
   "execution_count": 52,
   "id": "8fc7186a-3a3d-42cd-a84d-9aac9783d215",
   "metadata": {},
   "outputs": [],
   "source": [
    "from sklearn.compose import ColumnTransformer\n",
    "from sklearn.preprocessing import OrdinalEncoder\n",
    "\n",
    "ord_enc = OrdinalEncoder(dtype = np.int)\n",
    "col_trans = ColumnTransformer([('ord_enc', ord_enc, ['color'])])\n",
    "X_trans = col_trans.fit_transform(df)"
   ]
  },
  {
   "cell_type": "code",
   "execution_count": 53,
   "id": "a7cef47c-0aec-439c-8cb1-958bb6ae6a3f",
   "metadata": {},
   "outputs": [
    {
     "data": {
      "text/plain": [
       "array([[1],\n",
       "       [2],\n",
       "       [0]])"
      ]
     },
     "execution_count": 53,
     "metadata": {},
     "output_type": "execute_result"
    }
   ],
   "source": [
    "X_trans"
   ]
  },
  {
   "cell_type": "code",
   "execution_count": 61,
   "id": "e9cd9dda-086d-487a-bc7f-69a038d9b67c",
   "metadata": {},
   "outputs": [],
   "source": [
    "from sklearn.preprocessing import OneHotEncoder\n",
    "\n",
    "\n",
    "X = df[['color','size','price']].values\n",
    "\n",
    "ohe = OneHotEncoder()\n",
    "col_trans = ColumnTransformer([('ohe', ohe , [0])], remainder = 'passthrough')"
   ]
  },
  {
   "cell_type": "code",
   "execution_count": 62,
   "id": "2f79b114-6fa5-46af-be0c-e90a57495d12",
   "metadata": {},
   "outputs": [
    {
     "data": {
      "text/plain": [
       "array([[0.0, 1.0, 0.0, 1, 10.1],\n",
       "       [0.0, 0.0, 1.0, 2, 13.5],\n",
       "       [1.0, 0.0, 0.0, 3, 15.3]], dtype=object)"
      ]
     },
     "execution_count": 62,
     "metadata": {},
     "output_type": "execute_result"
    }
   ],
   "source": [
    "col_trans.fit_transform(X)"
   ]
  },
  {
   "cell_type": "code",
   "execution_count": 64,
   "id": "a7206d72-0940-46fd-a546-1438427d5331",
   "metadata": {},
   "outputs": [
    {
     "data": {
      "text/html": [
       "<div>\n",
       "<style scoped>\n",
       "    .dataframe tbody tr th:only-of-type {\n",
       "        vertical-align: middle;\n",
       "    }\n",
       "\n",
       "    .dataframe tbody tr th {\n",
       "        vertical-align: top;\n",
       "    }\n",
       "\n",
       "    .dataframe thead th {\n",
       "        text-align: right;\n",
       "    }\n",
       "</style>\n",
       "<table border=\"1\" class=\"dataframe\">\n",
       "  <thead>\n",
       "    <tr style=\"text-align: right;\">\n",
       "      <th></th>\n",
       "      <th>price</th>\n",
       "      <th>size</th>\n",
       "      <th>color_green</th>\n",
       "      <th>color_red</th>\n",
       "    </tr>\n",
       "  </thead>\n",
       "  <tbody>\n",
       "    <tr>\n",
       "      <th>0</th>\n",
       "      <td>10.1</td>\n",
       "      <td>1</td>\n",
       "      <td>1</td>\n",
       "      <td>0</td>\n",
       "    </tr>\n",
       "    <tr>\n",
       "      <th>1</th>\n",
       "      <td>13.5</td>\n",
       "      <td>2</td>\n",
       "      <td>0</td>\n",
       "      <td>1</td>\n",
       "    </tr>\n",
       "    <tr>\n",
       "      <th>2</th>\n",
       "      <td>15.3</td>\n",
       "      <td>3</td>\n",
       "      <td>0</td>\n",
       "      <td>0</td>\n",
       "    </tr>\n",
       "  </tbody>\n",
       "</table>\n",
       "</div>"
      ],
      "text/plain": [
       "   price  size  color_green  color_red\n",
       "0   10.1     1            1          0\n",
       "1   13.5     2            0          1\n",
       "2   15.3     3            0          0"
      ]
     },
     "execution_count": 64,
     "metadata": {},
     "output_type": "execute_result"
    }
   ],
   "source": [
    "pd.get_dummies(df[['price','color','size']], drop_first = True)"
   ]
  },
  {
   "cell_type": "code",
   "execution_count": 66,
   "id": "cf063557-b7d8-4d2f-a0b2-4465cdd6cdfe",
   "metadata": {},
   "outputs": [],
   "source": [
    "df = pd.read_csv('https://archive.ics.uci.edu/ml/'\n",
    "                      'machine-learning-databases/wine/wine.data',\n",
    "                      header=None)"
   ]
  },
  {
   "cell_type": "code",
   "execution_count": 67,
   "id": "b9f01402-ab4e-4673-bfcc-c6a6951590b3",
   "metadata": {},
   "outputs": [
    {
     "data": {
      "text/html": [
       "<div>\n",
       "<style scoped>\n",
       "    .dataframe tbody tr th:only-of-type {\n",
       "        vertical-align: middle;\n",
       "    }\n",
       "\n",
       "    .dataframe tbody tr th {\n",
       "        vertical-align: top;\n",
       "    }\n",
       "\n",
       "    .dataframe thead th {\n",
       "        text-align: right;\n",
       "    }\n",
       "</style>\n",
       "<table border=\"1\" class=\"dataframe\">\n",
       "  <thead>\n",
       "    <tr style=\"text-align: right;\">\n",
       "      <th></th>\n",
       "      <th>0</th>\n",
       "      <th>1</th>\n",
       "      <th>2</th>\n",
       "      <th>3</th>\n",
       "      <th>4</th>\n",
       "      <th>5</th>\n",
       "      <th>6</th>\n",
       "      <th>7</th>\n",
       "      <th>8</th>\n",
       "      <th>9</th>\n",
       "      <th>10</th>\n",
       "      <th>11</th>\n",
       "      <th>12</th>\n",
       "      <th>13</th>\n",
       "    </tr>\n",
       "  </thead>\n",
       "  <tbody>\n",
       "    <tr>\n",
       "      <th>0</th>\n",
       "      <td>1</td>\n",
       "      <td>14.23</td>\n",
       "      <td>1.71</td>\n",
       "      <td>2.43</td>\n",
       "      <td>15.6</td>\n",
       "      <td>127</td>\n",
       "      <td>2.80</td>\n",
       "      <td>3.06</td>\n",
       "      <td>0.28</td>\n",
       "      <td>2.29</td>\n",
       "      <td>5.64</td>\n",
       "      <td>1.04</td>\n",
       "      <td>3.92</td>\n",
       "      <td>1065</td>\n",
       "    </tr>\n",
       "    <tr>\n",
       "      <th>1</th>\n",
       "      <td>1</td>\n",
       "      <td>13.20</td>\n",
       "      <td>1.78</td>\n",
       "      <td>2.14</td>\n",
       "      <td>11.2</td>\n",
       "      <td>100</td>\n",
       "      <td>2.65</td>\n",
       "      <td>2.76</td>\n",
       "      <td>0.26</td>\n",
       "      <td>1.28</td>\n",
       "      <td>4.38</td>\n",
       "      <td>1.05</td>\n",
       "      <td>3.40</td>\n",
       "      <td>1050</td>\n",
       "    </tr>\n",
       "    <tr>\n",
       "      <th>2</th>\n",
       "      <td>1</td>\n",
       "      <td>13.16</td>\n",
       "      <td>2.36</td>\n",
       "      <td>2.67</td>\n",
       "      <td>18.6</td>\n",
       "      <td>101</td>\n",
       "      <td>2.80</td>\n",
       "      <td>3.24</td>\n",
       "      <td>0.30</td>\n",
       "      <td>2.81</td>\n",
       "      <td>5.68</td>\n",
       "      <td>1.03</td>\n",
       "      <td>3.17</td>\n",
       "      <td>1185</td>\n",
       "    </tr>\n",
       "    <tr>\n",
       "      <th>3</th>\n",
       "      <td>1</td>\n",
       "      <td>14.37</td>\n",
       "      <td>1.95</td>\n",
       "      <td>2.50</td>\n",
       "      <td>16.8</td>\n",
       "      <td>113</td>\n",
       "      <td>3.85</td>\n",
       "      <td>3.49</td>\n",
       "      <td>0.24</td>\n",
       "      <td>2.18</td>\n",
       "      <td>7.80</td>\n",
       "      <td>0.86</td>\n",
       "      <td>3.45</td>\n",
       "      <td>1480</td>\n",
       "    </tr>\n",
       "    <tr>\n",
       "      <th>4</th>\n",
       "      <td>1</td>\n",
       "      <td>13.24</td>\n",
       "      <td>2.59</td>\n",
       "      <td>2.87</td>\n",
       "      <td>21.0</td>\n",
       "      <td>118</td>\n",
       "      <td>2.80</td>\n",
       "      <td>2.69</td>\n",
       "      <td>0.39</td>\n",
       "      <td>1.82</td>\n",
       "      <td>4.32</td>\n",
       "      <td>1.04</td>\n",
       "      <td>2.93</td>\n",
       "      <td>735</td>\n",
       "    </tr>\n",
       "    <tr>\n",
       "      <th>...</th>\n",
       "      <td>...</td>\n",
       "      <td>...</td>\n",
       "      <td>...</td>\n",
       "      <td>...</td>\n",
       "      <td>...</td>\n",
       "      <td>...</td>\n",
       "      <td>...</td>\n",
       "      <td>...</td>\n",
       "      <td>...</td>\n",
       "      <td>...</td>\n",
       "      <td>...</td>\n",
       "      <td>...</td>\n",
       "      <td>...</td>\n",
       "      <td>...</td>\n",
       "    </tr>\n",
       "    <tr>\n",
       "      <th>173</th>\n",
       "      <td>3</td>\n",
       "      <td>13.71</td>\n",
       "      <td>5.65</td>\n",
       "      <td>2.45</td>\n",
       "      <td>20.5</td>\n",
       "      <td>95</td>\n",
       "      <td>1.68</td>\n",
       "      <td>0.61</td>\n",
       "      <td>0.52</td>\n",
       "      <td>1.06</td>\n",
       "      <td>7.70</td>\n",
       "      <td>0.64</td>\n",
       "      <td>1.74</td>\n",
       "      <td>740</td>\n",
       "    </tr>\n",
       "    <tr>\n",
       "      <th>174</th>\n",
       "      <td>3</td>\n",
       "      <td>13.40</td>\n",
       "      <td>3.91</td>\n",
       "      <td>2.48</td>\n",
       "      <td>23.0</td>\n",
       "      <td>102</td>\n",
       "      <td>1.80</td>\n",
       "      <td>0.75</td>\n",
       "      <td>0.43</td>\n",
       "      <td>1.41</td>\n",
       "      <td>7.30</td>\n",
       "      <td>0.70</td>\n",
       "      <td>1.56</td>\n",
       "      <td>750</td>\n",
       "    </tr>\n",
       "    <tr>\n",
       "      <th>175</th>\n",
       "      <td>3</td>\n",
       "      <td>13.27</td>\n",
       "      <td>4.28</td>\n",
       "      <td>2.26</td>\n",
       "      <td>20.0</td>\n",
       "      <td>120</td>\n",
       "      <td>1.59</td>\n",
       "      <td>0.69</td>\n",
       "      <td>0.43</td>\n",
       "      <td>1.35</td>\n",
       "      <td>10.20</td>\n",
       "      <td>0.59</td>\n",
       "      <td>1.56</td>\n",
       "      <td>835</td>\n",
       "    </tr>\n",
       "    <tr>\n",
       "      <th>176</th>\n",
       "      <td>3</td>\n",
       "      <td>13.17</td>\n",
       "      <td>2.59</td>\n",
       "      <td>2.37</td>\n",
       "      <td>20.0</td>\n",
       "      <td>120</td>\n",
       "      <td>1.65</td>\n",
       "      <td>0.68</td>\n",
       "      <td>0.53</td>\n",
       "      <td>1.46</td>\n",
       "      <td>9.30</td>\n",
       "      <td>0.60</td>\n",
       "      <td>1.62</td>\n",
       "      <td>840</td>\n",
       "    </tr>\n",
       "    <tr>\n",
       "      <th>177</th>\n",
       "      <td>3</td>\n",
       "      <td>14.13</td>\n",
       "      <td>4.10</td>\n",
       "      <td>2.74</td>\n",
       "      <td>24.5</td>\n",
       "      <td>96</td>\n",
       "      <td>2.05</td>\n",
       "      <td>0.76</td>\n",
       "      <td>0.56</td>\n",
       "      <td>1.35</td>\n",
       "      <td>9.20</td>\n",
       "      <td>0.61</td>\n",
       "      <td>1.60</td>\n",
       "      <td>560</td>\n",
       "    </tr>\n",
       "  </tbody>\n",
       "</table>\n",
       "<p>178 rows × 14 columns</p>\n",
       "</div>"
      ],
      "text/plain": [
       "     0      1     2     3     4    5     6     7     8     9      10    11  \\\n",
       "0     1  14.23  1.71  2.43  15.6  127  2.80  3.06  0.28  2.29   5.64  1.04   \n",
       "1     1  13.20  1.78  2.14  11.2  100  2.65  2.76  0.26  1.28   4.38  1.05   \n",
       "2     1  13.16  2.36  2.67  18.6  101  2.80  3.24  0.30  2.81   5.68  1.03   \n",
       "3     1  14.37  1.95  2.50  16.8  113  3.85  3.49  0.24  2.18   7.80  0.86   \n",
       "4     1  13.24  2.59  2.87  21.0  118  2.80  2.69  0.39  1.82   4.32  1.04   \n",
       "..   ..    ...   ...   ...   ...  ...   ...   ...   ...   ...    ...   ...   \n",
       "173   3  13.71  5.65  2.45  20.5   95  1.68  0.61  0.52  1.06   7.70  0.64   \n",
       "174   3  13.40  3.91  2.48  23.0  102  1.80  0.75  0.43  1.41   7.30  0.70   \n",
       "175   3  13.27  4.28  2.26  20.0  120  1.59  0.69  0.43  1.35  10.20  0.59   \n",
       "176   3  13.17  2.59  2.37  20.0  120  1.65  0.68  0.53  1.46   9.30  0.60   \n",
       "177   3  14.13  4.10  2.74  24.5   96  2.05  0.76  0.56  1.35   9.20  0.61   \n",
       "\n",
       "       12    13  \n",
       "0    3.92  1065  \n",
       "1    3.40  1050  \n",
       "2    3.17  1185  \n",
       "3    3.45  1480  \n",
       "4    2.93   735  \n",
       "..    ...   ...  \n",
       "173  1.74   740  \n",
       "174  1.56   750  \n",
       "175  1.56   835  \n",
       "176  1.62   840  \n",
       "177  1.60   560  \n",
       "\n",
       "[178 rows x 14 columns]"
      ]
     },
     "execution_count": 67,
     "metadata": {},
     "output_type": "execute_result"
    }
   ],
   "source": [
    "df"
   ]
  },
  {
   "cell_type": "code",
   "execution_count": 68,
   "id": "ce0b11e6-8fa6-4dae-b50b-8874a3d86983",
   "metadata": {},
   "outputs": [],
   "source": [
    "from sklearn.model_selection import train_test_split\n",
    "X,y = df.iloc[:, 1:].values, df.iloc[:,0].values\n",
    "X_train, X_test, y_train, y_test = train_test_split(X, y, test_size = .3, random_state=42)"
   ]
  },
  {
   "cell_type": "code",
   "execution_count": 70,
   "id": "f8c491f4-4b0b-43d5-a0e7-1a6cde13575e",
   "metadata": {},
   "outputs": [
    {
     "data": {
      "text/plain": [
       "(124, 13)"
      ]
     },
     "execution_count": 70,
     "metadata": {},
     "output_type": "execute_result"
    }
   ],
   "source": [
    "X_train.shape"
   ]
  },
  {
   "cell_type": "code",
   "execution_count": 71,
   "id": "5d787e59-4c0a-4678-a93f-5061575c4bee",
   "metadata": {},
   "outputs": [
    {
     "data": {
      "text/plain": [
       "(54, 13)"
      ]
     },
     "execution_count": 71,
     "metadata": {},
     "output_type": "execute_result"
    }
   ],
   "source": [
    "X_test.shape"
   ]
  },
  {
   "cell_type": "code",
   "execution_count": 73,
   "id": "17ee66e9-c3aa-43c8-ab52-8de98952737f",
   "metadata": {},
   "outputs": [
    {
     "data": {
      "text/plain": [
       "(124,)"
      ]
     },
     "execution_count": 73,
     "metadata": {},
     "output_type": "execute_result"
    }
   ],
   "source": [
    "y_train.shape"
   ]
  },
  {
   "cell_type": "code",
   "execution_count": 74,
   "id": "8403a228-c9e0-4021-a59d-1b50d035c83c",
   "metadata": {},
   "outputs": [],
   "source": [
    "from sklearn.preprocessing import MinMaxScaler\n",
    "mms = MinMaxScaler()\n",
    "X_train_norm = mms.fit_transform(X_train)\n",
    "X_test_norm = mms.fit_transform(X_test)"
   ]
  },
  {
   "cell_type": "code",
   "execution_count": 75,
   "id": "b1be5a1f-12b2-4e4c-89e4-5811d02b0f20",
   "metadata": {},
   "outputs": [
    {
     "data": {
      "text/plain": [
       "array([[0.76109215, 0.49475891, 0.74137931, 0.0173913 , 0.84444444,\n",
       "        0.62211982, 0.73760933, 0.        , 0.52083333, 0.32593857,\n",
       "        0.53333333, 0.81746032, 0.38961988],\n",
       "       [0.9556314 , 0.6918239 , 0.63793103, 0.33913043, 0.73333333,\n",
       "        0.69124424, 0.62682216, 0.2826087 , 0.35      , 0.33788396,\n",
       "        0.41333333, 0.80555556, 0.56140351],\n",
       "       [0.51877133, 0.43396226, 0.86206897, 0.52173913, 0.4       ,\n",
       "        0.0875576 , 0.        , 0.7826087 , 0.14166667, 0.28327645,\n",
       "        0.28      , 0.40079365, 0.21052632],\n",
       "       [0.79180887, 0.15932914, 0.86206897, 0.65217391, 0.51111111,\n",
       "        0.76036866, 0.80174927, 0.26086957, 0.82083333, 0.37713311,\n",
       "        0.84      , 0.55952381, 0.71125731],\n",
       "       [0.32764505, 0.09014675, 0.18965517, 0.4       , 0.        ,\n",
       "        0.35023041, 0.43731778, 0.2173913 , 0.2625    , 0.29010239,\n",
       "        0.74666667, 0.86507937, 0.14473684],\n",
       "       [0.98634812, 0.24737945, 0.87931034, 0.43478261, 0.93333333,\n",
       "        0.66820276, 0.7696793 , 0.34782609, 0.65      , 0.41979522,\n",
       "        0.68      , 0.53571429, 0.70760234],\n",
       "       [0.20136519, 0.5639413 , 0.25862069, 0.34782609, 0.2       ,\n",
       "        0.29953917, 0.33236152, 0.43478261, 0.60833333, 0.        ,\n",
       "        0.49333333, 0.69444444, 0.18421053],\n",
       "       [0.67918089, 0.66457023, 0.67241379, 0.69565217, 0.53333333,\n",
       "        0.20737327, 0.0728863 , 0.56521739, 0.41666667, 0.51365188,\n",
       "        0.18666667, 0.1031746 , 0.32017544],\n",
       "       [0.06825939, 0.1278826 , 0.86206897, 0.43478261, 0.35555556,\n",
       "        0.640553  , 0.70553936, 0.26086957, 0.86666667, 0.1168942 ,\n",
       "        0.53333333, 0.77777778, 0.26900585],\n",
       "       [0.66552901, 0.38155136, 0.56034483, 0.43478261, 0.24444444,\n",
       "        0.02304147, 0.        , 0.43478261, 0.09583333, 0.36860068,\n",
       "        0.18666667, 0.46428571, 0.34210526],\n",
       "       [0.71331058, 0.22431866, 0.78448276, 0.43478261, 0.4       ,\n",
       "        0.5437788 , 0.61516035, 0.23913043, 0.52083333, 0.19112628,\n",
       "        0.74666667, 1.        , 0.38961988],\n",
       "       [0.71331058, 0.49895178, 0.79310345, 0.7826087 , 1.        ,\n",
       "        0.02304147, 0.31195335, 0.10869565, 0.35      , 0.62457338,\n",
       "        0.04      , 0.        , 0.1374269 ],\n",
       "       [0.68259386, 0.64989518, 0.36206897, 0.33043478, 0.26666667,\n",
       "        0.50691244, 0.63556851, 0.2173913 , 0.44583333, 0.2559727 ,\n",
       "        0.46666667, 0.67460317, 0.52850877],\n",
       "       [0.46416382, 0.5639413 , 0.24137931, 0.08695652, 0.04444444,\n",
       "        0.12903226, 0.21865889, 0.56521739, 0.175     , 0.18088737,\n",
       "        0.18666667, 0.32539683, 0.04385965],\n",
       "       [0.75767918, 0.22431866, 0.86206897, 0.19130435, 0.75555556,\n",
       "        0.69124424, 0.70262391, 0.2826087 , 0.4375    , 0.51365188,\n",
       "        0.96      , 0.62698413, 0.72953216],\n",
       "       [0.37883959, 0.35429769, 0.40517241, 0.52173913, 0.22222222,\n",
       "        0.55299539, 0.51603499, 0.19565217, 0.3375    , 0.06143345,\n",
       "        0.45333333, 0.58730159, 0.00950292],\n",
       "       [0.        , 0.        , 0.68965517, 0.52173913, 0.22222222,\n",
       "        0.52073733, 0.44023324, 0.54347826, 0.42916667, 0.15358362,\n",
       "        0.72      , 0.40079365, 0.08918129],\n",
       "       [0.22866894, 0.08176101, 0.69827586, 0.7826087 , 0.        ,\n",
       "        0.29953917, 0.3148688 , 0.5       , 0.4125    , 0.07849829,\n",
       "        1.        , 0.56349206, 0.23245614],\n",
       "       [0.83617747, 0.1278826 , 0.49137931, 0.08695652, 0.44444444,\n",
       "        0.75115207, 0.77259475, 0.10869565, 0.6       , 0.50682594,\n",
       "        0.6       , 0.89285714, 0.53581871],\n",
       "       [0.22866894, 0.13626834, 0.68965517, 0.65217391, 0.13333333,\n",
       "        0.55760369, 0.52186589, 0.56521739, 0.2625    , 0.13822526,\n",
       "        0.49333333, 0.75      , 0.05336257],\n",
       "       [0.94880546, 0.17819706, 0.67241379, 0.13043478, 0.66666667,\n",
       "        0.89861751, 1.        , 0.32608696, 0.60416667, 0.6331058 ,\n",
       "        0.89333333, 0.6031746 , 1.        ],\n",
       "       [0.58020478, 0.05660377, 0.        , 0.        , 0.        ,\n",
       "        0.75115207, 0.78134111, 0.19565217, 0.77916667, 0.34300341,\n",
       "        0.74666667, 0.74603175, 0.13888889],\n",
       "       [0.31399317, 0.0754717 , 0.5       , 0.08695652, 0.51111111,\n",
       "        0.32258065, 0.17201166, 1.        , 0.        , 0.16979522,\n",
       "        0.92      , 0.1468254 , 0.26900585],\n",
       "       [0.67918089, 0.80922432, 1.        , 0.86956522, 0.75555556,\n",
       "        0.29032258, 0.13411079, 0.2173913 , 0.29166667, 0.61604096,\n",
       "        0.14666667, 0.24603175, 0.23245614],\n",
       "       [0.46416382, 0.34591195, 0.5       , 0.39130435, 0.17777778,\n",
       "        0.01843318, 0.00291545, 0.67391304, 0.09583333, 0.7354948 ,\n",
       "        0.01333333, 0.13095238, 0.11549708],\n",
       "       [0.80887372, 0.42348008, 0.51724138, 0.60869565, 0.26666667,\n",
       "        0.        , 0.05247813, 0.52173913, 0.25833333, 0.70819113,\n",
       "        0.18666667, 0.15079365, 0.22149123],\n",
       "       [0.3447099 , 0.18238994, 0.42241379, 0.65217391, 0.66666667,\n",
       "        0.29953917, 0.46355685, 0.36956522, 0.5       , 0.0665529 ,\n",
       "        0.66666667, 0.65873016, 0.02412281],\n",
       "       [0.32764505, 0.09853249, 0.74137931, 0.26956522, 0.44444444,\n",
       "        0.49308756, 0.62682216, 0.43478261, 0.69583333, 0.28327645,\n",
       "        0.84      , 0.3968254 , 0.26754386],\n",
       "       [0.22866894, 0.22851153, 0.53448276, 0.30434783, 0.06666667,\n",
       "        0.11520737, 0.29154519, 0.76086957, 0.5125    , 0.09556314,\n",
       "        0.69333333, 0.38492063, 0.12280702],\n",
       "       [0.7337884 , 0.20754717, 0.65517241, 0.47826087, 0.84444444,\n",
       "        0.74193548, 0.66472303, 0.06521739, 0.85      , 0.42406143,\n",
       "        0.56      , 0.68650794, 0.59064327],\n",
       "       [0.89078498, 0.19706499, 0.43965517, 0.08695652, 0.4       ,\n",
       "        0.59907834, 0.5335277 , 0.19565217, 0.65416667, 0.29180887,\n",
       "        0.64      , 0.90873016, 0.52850877],\n",
       "       [0.32764505, 0.18658281, 0.51724138, 0.82608696, 0.22222222,\n",
       "        0.40092166, 0.56851312, 0.5       , 0.62083333, 0.07167235,\n",
       "        0.44      , 0.58730159, 0.02192982],\n",
       "       [0.59726962, 0.5932914 , 0.38793103, 0.52173913, 0.53333333,\n",
       "        0.06912442, 0.01457726, 0.56521739, 0.37083333, 0.23208191,\n",
       "        0.05333333, 0.15079365, 0.37865497],\n",
       "       [0.74061433, 0.19287212, 0.56896552, 0.35652174, 0.62222222,\n",
       "        0.69585253, 0.78425656, 0.10869565, 0.64166667, 0.47952218,\n",
       "        0.70666667, 0.62698413, 0.87938596],\n",
       "       [0.79863481, 0.20754717, 0.61206897, 0.08695652, 0.24444444,\n",
       "        0.57603687, 0.65889213, 0.26086957, 0.58333333, 0.36860068,\n",
       "        0.78666667, 0.63492063, 0.73684211],\n",
       "       [0.84300341, 0.24109015, 0.76724138, 0.        , 0.51111111,\n",
       "        0.87557604, 0.89212828, 0.        , 0.5375    , 0.35409556,\n",
       "        0.42666667, 0.8968254 , 0.57236842],\n",
       "       [1.        , 0.19706499, 0.86206897, 0.86956522, 0.44444444,\n",
       "        0.66820276, 0.2361516 , 0.7826087 , 0.95416667, 1.        ,\n",
       "        0.01333333, 0.26190476, 0.25438596],\n",
       "       [0.38225256, 1.        , 0.81034483, 0.86956522, 0.4       ,\n",
       "        0.20276498, 0.02915452, 1.        , 0.2875    , 0.31740614,\n",
       "        0.34666667, 0.1547619 , 0.14839181],\n",
       "       [0.32764505, 0.06918239, 0.34482759, 0.30434783, 0.22222222,\n",
       "        1.        , 0.94752187, 0.15217391, 0.64166667, 0.27474403,\n",
       "        0.64      , 0.58333333, 0.25438596],\n",
       "       [0.70648464, 0.19496855, 0.81034483, 0.65217391, 0.24444444,\n",
       "        0.57603687, 0.17492711, 0.76086957, 0.78333333, 0.89334471,\n",
       "        0.01333333, 0.19047619, 0.2251462 ],\n",
       "       [0.5665529 , 0.15932914, 0.34482759, 0.04347826, 0.44444444,\n",
       "        0.48387097, 0.62390671, 0.23913043, 0.4       , 0.20648464,\n",
       "        0.82666667, 0.5515873 , 0.51754386],\n",
       "       [0.27645051, 0.11530398, 0.20689655, 0.34782609, 0.31111111,\n",
       "        0.46543779, 0.44897959, 0.47826087, 0.69583333, 0.12116041,\n",
       "        0.4       , 0.68253968, 0.        ],\n",
       "       [0.43003413, 0.05031447, 0.46551724, 0.26086957, 0.46666667,\n",
       "        0.39170507, 0.41982507, 0.2826087 , 0.4375    , 0.11433447,\n",
       "        0.89333333, 0.73809524, 0.10087719],\n",
       "       [0.65870307, 0.04192872, 0.56896552, 0.17391304, 0.71111111,\n",
       "        0.5437788 , 0.23323615, 0.82608696, 0.00416667, 0.1612628 ,\n",
       "        0.61333333, 0.25      , 0.32017544],\n",
       "       [0.75426621, 0.88259958, 0.56034483, 0.43478261, 0.31111111,\n",
       "        0.29953917, 0.08746356, 0.65217391, 0.25416667, 0.2662116 ,\n",
       "        0.46666667, 0.29761905, 0.17397661],\n",
       "       [0.59726962, 0.33962264, 0.8362069 , 0.31304348, 0.51111111,\n",
       "        0.66820276, 0.79883382, 0.2826087 , 1.        , 0.37542662,\n",
       "        0.62666667, 0.74206349, 0.63815789],\n",
       "       [0.22866894, 0.28092243, 0.        , 0.2173913 , 0.42222222,\n",
       "        0.40552995, 0.48688047, 0.19565217, 0.4125    , 0.17235495,\n",
       "        0.94666667, 0.65873016, 0.29093567],\n",
       "       [0.3447099 , 0.77358491, 0.88793103, 1.        , 0.53333333,\n",
       "        0.39170507, 0.47521866, 0.56521739, 0.54166667, 0.06825939,\n",
       "        0.48      , 0.72222222, 0.03874269],\n",
       "       [0.39931741, 0.11530398, 0.34482759, 0.43478261, 0.55555556,\n",
       "        0.05990783, 0.02332362, 0.7826087 , 0.4125    , 0.53924915,\n",
       "        0.02666667, 0.09920635, 0.23976608],\n",
       "       [0.82593857, 0.19077568, 0.77586207, 0.19130435, 0.35555556,\n",
       "        0.50691244, 0.72594752, 0.10869565, 0.78333333, 0.36860068,\n",
       "        0.90666667, 0.82142857, 0.69663743],\n",
       "       [0.55290102, 0.03354298, 0.00862069, 0.08695652, 0.17777778,\n",
       "        0.2764977 , 0.44606414, 0.15217391, 0.4375    , 0.28327645,\n",
       "        0.84      , 0.46825397, 0.05847953],\n",
       "       [0.95904437, 0.20125786, 0.51724138, 0.11304348, 0.88888889,\n",
       "        0.85253456, 0.72886297, 0.19565217, 0.675     , 0.43515358,\n",
       "        0.50666667, 0.79761905, 0.48099415],\n",
       "       [0.67576792, 0.21593291, 0.79310345, 0.09565217, 0.33333333,\n",
       "        0.69124424, 0.71137026, 0.36956522, 0.43333333, 0.3003413 ,\n",
       "        0.48      , 0.76190476, 0.64546784],\n",
       "       [0.62116041, 0.53668763, 0.5       , 0.30434783, 0.44444444,\n",
       "        0.20737327, 0.09620991, 0.95652174, 0.60833333, 0.7883959 ,\n",
       "        0.        , 0.08333333, 0.26535088]])"
      ]
     },
     "execution_count": 75,
     "metadata": {},
     "output_type": "execute_result"
    }
   ],
   "source": [
    "X_test_norm"
   ]
  },
  {
   "cell_type": "code",
   "execution_count": 80,
   "id": "79d0108b-5683-477f-a69d-0a933c810110",
   "metadata": {},
   "outputs": [
    {
     "name": "stdout",
     "output_type": "stream",
     "text": [
      "표준화의 결과:  [-1.46385011 -0.46385011  0.53614989  1.53614989  2.53614989  3.53614989]\n",
      "정규화의 결과:  [0.  0.2 0.4 0.6 0.8 1. ]\n"
     ]
    }
   ],
   "source": [
    "ex = np.array([0,1,2,3,4,5])\n",
    "\n",
    "print('표준화의 결과: ' ,(ex - ex.mean()/ex.std()))\n",
    "print('정규화의 결과: ', (ex - ex.min()) / (ex.max() - ex.min()))"
   ]
  },
  {
   "cell_type": "code",
   "execution_count": 88,
   "id": "94a3560e-dfae-4f23-8700-2f03c5b72024",
   "metadata": {},
   "outputs": [],
   "source": [
    "from sklearn.preprocessing import StandardScaler\n",
    "scaler = StandardScaler()\n",
    "X_train_std = scaler.fit_transform(X_train)\n",
    "X_test_std = scaler.transform(X_test)"
   ]
  },
  {
   "cell_type": "code",
   "execution_count": 89,
   "id": "6b7e9b70-5491-46bf-855d-a13f89a12408",
   "metadata": {},
   "outputs": [
    {
     "data": {
      "text/plain": [
       "LogisticRegression(penalty='l1', random_state=42, solver='liblinear')"
      ]
     },
     "execution_count": 89,
     "metadata": {},
     "output_type": "execute_result"
    }
   ],
   "source": [
    "from sklearn.linear_model import LogisticRegression\n",
    "lr = LogisticRegression(solver = 'liblinear', multi_class = 'auto', penalty = 'l1', C = 1., random_state = 42)\n",
    "lr.fit(X_train_std, y_train)"
   ]
  },
  {
   "cell_type": "code",
   "execution_count": 90,
   "id": "40fe0be6-ba46-4fda-a564-a6b27ddf1638",
   "metadata": {},
   "outputs": [
    {
     "data": {
      "text/plain": [
       "1.0"
      ]
     },
     "execution_count": 90,
     "metadata": {},
     "output_type": "execute_result"
    }
   ],
   "source": [
    "lr.score(X_train_std, y_train)"
   ]
  },
  {
   "cell_type": "code",
   "execution_count": 92,
   "id": "dc11b63a-d496-44bb-bd6d-000f046cc20e",
   "metadata": {},
   "outputs": [
    {
     "data": {
      "text/plain": [
       "0.9814814814814815"
      ]
     },
     "execution_count": 92,
     "metadata": {},
     "output_type": "execute_result"
    }
   ],
   "source": [
    "lr.score(X_test_std, y_test)"
   ]
  },
  {
   "cell_type": "code",
   "execution_count": 93,
   "id": "afb1d180-c019-4a48-a444-99e71daa4d05",
   "metadata": {},
   "outputs": [
    {
     "data": {
      "text/plain": [
       "array([-1.32246872, -1.02606166, -2.31906123])"
      ]
     },
     "execution_count": 93,
     "metadata": {},
     "output_type": "execute_result"
    }
   ],
   "source": [
    "lr.intercept_"
   ]
  },
  {
   "cell_type": "code",
   "execution_count": 94,
   "id": "f518a3d9-dad0-46a6-9f70-aadb7dc4f16c",
   "metadata": {},
   "outputs": [
    {
     "data": {
      "text/plain": [
       "array([[ 1.4180471 ,  0.        ,  0.96809715, -1.58508952,  0.        ,\n",
       "         0.        ,  1.0108926 ,  0.        ,  0.        ,  0.        ,\n",
       "         0.        ,  0.81227019,  1.89241985],\n",
       "       [-1.87684108, -0.09667007, -1.28138043,  0.82052359,  0.        ,\n",
       "         0.        ,  0.26111179,  0.        ,  0.45464439, -1.52646092,\n",
       "         1.60434579,  0.        , -2.01420617],\n",
       "       [ 0.        ,  0.10342403,  0.40452885,  0.        ,  0.        ,\n",
       "         0.        , -1.89568031,  0.        , -0.17427308,  1.59204121,\n",
       "        -1.28197127, -0.64115088,  0.        ]])"
      ]
     },
     "execution_count": 94,
     "metadata": {},
     "output_type": "execute_result"
    }
   ],
   "source": [
    "lr.coef_"
   ]
  },
  {
   "cell_type": "code",
   "execution_count": 95,
   "id": "5a079ed4-0b2e-4450-aafc-acad7cedcaef",
   "metadata": {},
   "outputs": [],
   "source": [
    "import matplotlib.pyplot as plt"
   ]
  },
  {
   "cell_type": "code",
   "execution_count": 109,
   "id": "b722f5da-3896-4a84-bd44-44130065e1be",
   "metadata": {},
   "outputs": [
    {
     "data": {
      "text/plain": [
       "<matplotlib.legend.Legend at 0x26395b81fd0>"
      ]
     },
     "execution_count": 109,
     "metadata": {},
     "output_type": "execute_result"
    },
    {
     "data": {
      "image/png": "[encoded data removed]",
      "text/plain": [
       "<Figure size 1080x720 with 1 Axes>"
      ]
     },
     "metadata": {
      "needs_background": "light"
     },
     "output_type": "display_data"
    }
   ],
   "source": [
    "fig = plt.figure(figsize = (15,10))\n",
    "ax = plt.subplot(111)\n",
    "colors = ['blue','green','red','cyan','magenta','yellow','black','pink','lightgreen','gray','indigo','orange']\n",
    "\n",
    "weights, params = [], []\n",
    "for c in np.arange(-4., 6.):\n",
    "    lr = LogisticRegression(solver = 'liblinear', multi_class = 'auto', penalty = 'l1', C = 10. ** c, random_state = 42)\n",
    "    lr.fit(X_train_std, y_train)\n",
    "    weights.append(lr.coef_[1])\n",
    "    params.append(10 ** c)\n",
    "    \n",
    "weights = np.array(weights)\n",
    "for column, color in zip(range(weights.shape[1]), colors):\n",
    "    plt.plot(params, weight[:,column], label = df.columns[column + 1], color = color)\n",
    "    \n",
    "plt.xlim([10**-5, 10**5])\n",
    "plt.axhline(0, color = 'black', linestyle = '--', linewidth = 3)\n",
    "plt.xscale('log')\n",
    "plt.legend(loc = 'upper left')"
   ]
  },
  {
   "cell_type": "code",
   "execution_count": 110,
   "id": "08ae148b-de13-4130-a3cd-6236473df852",
   "metadata": {},
   "outputs": [
    {
     "data": {
      "text/plain": [
       "RandomForestClassifier(n_estimators=300, random_state=42)"
      ]
     },
     "execution_count": 110,
     "metadata": {},
     "output_type": "execute_result"
    }
   ],
   "source": [
    "from sklearn.ensemble import RandomForestClassifier\n",
    "\n",
    "feat_label = df.columns[1:]\n",
    "forest = RandomForestClassifier(n_estimators=300, random_state = 42)\n",
    "forest.fit(X_train_std, y_train)"
   ]
  },
  {
   "cell_type": "code",
   "execution_count": 111,
   "id": "c56f883d-26c8-4337-a787-12b6017ded78",
   "metadata": {},
   "outputs": [],
   "source": [
    "importances = forest.feature_importances_"
   ]
  },
  {
   "cell_type": "code",
   "execution_count": 112,
   "id": "ae6bef87-9207-4b1f-90d6-898ac7344d12",
   "metadata": {},
   "outputs": [
    {
     "data": {
      "text/plain": [
       "array([0.11944619, 0.02484647, 0.01344612, 0.03650359, 0.03685123,\n",
       "       0.06092212, 0.15723148, 0.01024374, 0.03701174, 0.17613534,\n",
       "       0.0838206 , 0.11161808, 0.1319233 ])"
      ]
     },
     "execution_count": 112,
     "metadata": {},
     "output_type": "execute_result"
    }
   ],
   "source": [
    "importances"
   ]
  },
  {
   "cell_type": "code",
   "execution_count": 119,
   "id": "35e8f1ba-944c-4d95-9859-b265920f0568",
   "metadata": {},
   "outputs": [
    {
     "name": "stdout",
     "output_type": "stream",
     "text": [
      "1 ) 10                             0.176135\n",
      "2 ) 7                              0.157231\n",
      "3 ) 13                             0.131923\n",
      "4 ) 1                              0.119446\n",
      "5 ) 12                             0.111618\n",
      "6 ) 11                             0.083821\n",
      "7 ) 6                              0.060922\n",
      "8 ) 9                              0.037012\n",
      "9 ) 5                              0.036851\n",
      "10 ) 4                              0.036504\n",
      "11 ) 2                              0.024846\n",
      "12 ) 3                              0.013446\n",
      "13 ) 8                              0.010244\n"
     ]
    },
    {
     "data": {
      "image/png": "[encoded data removed]",
      "text/plain": [
       "<Figure size 432x288 with 1 Axes>"
      ]
     },
     "metadata": {
      "needs_background": "light"
     },
     "output_type": "display_data"
    }
   ],
   "source": [
    "indices = np.argsort(importances)[::-1]\n",
    "for f in range(X_train_std.shape[1]):\n",
    "    print('%d ) %-*s %f'%(f+1, 30, feat_label[indices[f]], importances[indices[f]]))\n",
    "    \n",
    "plt.title('feature importance')\n",
    "plt.bar(range(X_train_std.shape[1]), importances[indices], align= 'center')\n",
    "plt.xticks(range(X_train_std.shape[1]), indices)\n",
    "plt.xlim([-1, X_train.shape[1]])\n",
    "plt.tight_layout()"
   ]
  },
  {
   "cell_type": "code",
   "execution_count": null,
   "id": "b59b4e84-a15e-4136-8b49-8fc133cfad77",
   "metadata": {},
   "outputs": [],
   "source": []
  }
 ],
 "metadata": {
  "kernelspec": {
   "display_name": "Python 3",
   "language": "python",
   "name": "python3"
  },
  "language_info": {
   "codemirror_mode": {
    "name": "ipython",
    "version": 3
   },
   "file_extension": ".py",
   "mimetype": "text/x-python",
   "name": "python",
   "nbconvert_exporter": "python",
   "pygments_lexer": "ipython3",
   "version": "3.8.8"
  }
 },
 "nbformat": 4,
 "nbformat_minor": 5
}
