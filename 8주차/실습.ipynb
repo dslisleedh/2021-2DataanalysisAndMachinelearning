{
 "cells": [
  {
   "cell_type": "code",
   "execution_count": 1,
   "id": "6b598261-ef1c-4880-b2fa-208fe2925af0",
   "metadata": {},
   "outputs": [],
   "source": [
    "from scipy.special import comb\n",
    "import math\n",
    "\n",
    "def ensemble_error(n_classifier, error):\n",
    "    k_start = int(math.ceil(n_classifier / 2.))\n",
    "    probs = [comb(n_classifier, k) * error ** k * (1 - error) ** (n_classifier - k) for k in range(k_start, n_classifier + 1)]\n",
    "    return sum(probs)"
   ]
  },
  {
   "cell_type": "code",
   "execution_count": 2,
   "id": "86528f99-0357-4d99-894e-13386328235e",
   "metadata": {},
   "outputs": [
    {
     "data": {
      "text/plain": [
       "0.03432750701904297"
      ]
     },
     "execution_count": 2,
     "metadata": {},
     "output_type": "execute_result"
    }
   ],
   "source": [
    "ensemble_error(11, .25)"
   ]
  },
  {
   "cell_type": "code",
   "execution_count": 3,
   "id": "0b12572f-73d2-47d3-83cd-39b20413dfc2",
   "metadata": {},
   "outputs": [
    {
     "data": {
      "text/plain": [
       "<matplotlib.legend.Legend at 0x14def4aaa60>"
      ]
     },
     "execution_count": 3,
     "metadata": {},
     "output_type": "execute_result"
    },
    {
     "data": {
      "image/png": "[encoded data removed]",
      "text/plain": [
       "<Figure size 432x288 with 1 Axes>"
      ]
     },
     "metadata": {
      "needs_background": "light"
     },
     "output_type": "display_data"
    }
   ],
   "source": [
    "import numpy as np\n",
    "import matplotlib.pyplot as plt\n",
    "\n",
    "error_range = np.arange(.0, 1.01, 0.01)\n",
    "ens_errors = [ensemble_error(n_classifier=11, error = error) for error in error_range]\n",
    "\n",
    "plt.plot(error_range, ens_errors, label  = 'ensenble_error', linewidth = 2)\n",
    "plt.plot(error_range, error_range, linestyle = '--', label = 'base error', linewidth = 2)\n",
    "plt.legend()"
   ]
  },
  {
   "cell_type": "code",
   "execution_count": 31,
   "id": "8682daeb-7f8e-4dd2-924c-d0f971d9ef65",
   "metadata": {},
   "outputs": [],
   "source": [
    "from sklearn.base import BaseEstimator, ClassifierMixin, clone\n",
    "from sklearn.preprocessing import LabelEncoder\n",
    "from sklearn.pipeline import _name_estimators\n",
    "import operator\n",
    "\n",
    "class MVC(BaseEstimator, ClassifierMixin):\n",
    "    def __init__(self, classifiers, vote = 'classlabel', weights = None):\n",
    "        self.classifiers = classifiers\n",
    "        self.name_classifiers = {key: value for key, value in _name_estimators(classifiers)}\n",
    "        self.vote = vote\n",
    "        self.weights = weights\n",
    "    \n",
    "    def fit(self, X, y):\n",
    "        if self.vote not in ('classlabel','probability'):\n",
    "            raise ValueError('제댈된 vote를 설정하세요')\n",
    "        if self.weights and len(self.weights) != len(self.clasifier):\n",
    "            raise ValueError('제대로된 weights를 넣으세요')\n",
    "            \n",
    "        self.labelenc_ = LabelEncoder()\n",
    "        self.labelenc_.fit(y)\n",
    "        \n",
    "        self.classes_ = self.labelenc_.classes_\n",
    "        self.classifiers_ = []\n",
    "        for clf in self.classifiers:\n",
    "            fitted_clf = clone(clf).fit(X, self.labelenc_.transform(y))\n",
    "            self.classifiers_.append(fitted_clf)\n",
    "            \n",
    "        return self\n",
    "    \n",
    "    def predict(self, X):\n",
    "        if self.vote == 'probability':\n",
    "            maj_vote = np.argmax(self.predict_proba(X), axis = 1)\n",
    "        elif self.vote == 'classlabel':\n",
    "            predictions = np.asarray([clf.predict(X) for clf in self.clasifiers_]).T\n",
    "            maj_vote = np.apply_along_axis(lambda x: np.argmax(np.bincount(x, weights = self.weights)),\n",
    "                                          axis = 1,\n",
    "                                          arr = predictions)\n",
    "            maj_vote = self.labelenc_.inverse_transform(maj_vote)\n",
    "        \n",
    "        return maj_vote\n",
    "    \n",
    "    def predict_proba(self, X):\n",
    "        probas = np.asarray([clf.predict_proba(X) for clf in self.classifiers_])\n",
    "        avg_proba = np.average(probas, axis = 0, weights = self.weights)\n",
    "        \n",
    "        return avg_proba\n",
    "    \n",
    "    def get_params(self, deep = True):\n",
    "        if not deep:\n",
    "            return super(MVC, self).get_params(deep = False)\n",
    "        else:\n",
    "            out = self.name_classifiers.copy()\n",
    "            for name, step in six.iteritems(self.name_classifiers):\n",
    "                for key, value in six.iteritems(step.get_params(deep = True)):\n",
    "                    out['%s_%s' % (name, key)] = value\n",
    "            \n",
    "            return out"
   ]
  },
  {
   "cell_type": "code",
   "execution_count": 32,
   "id": "ad289ff9-a588-4469-9c33-2bce2f119060",
   "metadata": {},
   "outputs": [],
   "source": [
    "from sklearn import datasets\n",
    "from sklearn.model_selection import train_test_split\n",
    "from sklearn.preprocessing import StandardScaler, LabelEncoder\n",
    "\n",
    "iris = datasets.load_iris()"
   ]
  },
  {
   "cell_type": "code",
   "execution_count": 33,
   "id": "88264428-98d5-4ade-8d6c-660be29f3ce1",
   "metadata": {},
   "outputs": [],
   "source": [
    "X, y = iris.data[50:, [1,2]], iris.target[50:]\n",
    "le = LabelEncoder()\n",
    "y = le.fit_transform(y)"
   ]
  },
  {
   "cell_type": "code",
   "execution_count": 34,
   "id": "cd090c4b-4a7a-42bb-a071-7d92153d1c05",
   "metadata": {},
   "outputs": [
    {
     "data": {
      "text/plain": [
       "array([0, 0, 0, 0, 0, 0, 0, 0, 0, 0, 0, 0, 0, 0, 0, 0, 0, 0, 0, 0, 0, 0,\n",
       "       0, 0, 0, 0, 0, 0, 0, 0, 0, 0, 0, 0, 0, 0, 0, 0, 0, 0, 0, 0, 0, 0,\n",
       "       0, 0, 0, 0, 0, 0, 1, 1, 1, 1, 1, 1, 1, 1, 1, 1, 1, 1, 1, 1, 1, 1,\n",
       "       1, 1, 1, 1, 1, 1, 1, 1, 1, 1, 1, 1, 1, 1, 1, 1, 1, 1, 1, 1, 1, 1,\n",
       "       1, 1, 1, 1, 1, 1, 1, 1, 1, 1, 1, 1], dtype=int64)"
      ]
     },
     "execution_count": 34,
     "metadata": {},
     "output_type": "execute_result"
    }
   ],
   "source": [
    "y"
   ]
  },
  {
   "cell_type": "code",
   "execution_count": 35,
   "id": "2b1d30c8-2c68-425c-86de-0cc7025dde39",
   "metadata": {},
   "outputs": [
    {
     "name": "stdout",
     "output_type": "stream",
     "text": [
      "0.9166666666666666 0.1536590742882148 LR\n",
      "0.8666666666666668 0.18333333333333332 DT\n",
      "0.85 0.13333333333333333 KNN\n"
     ]
    }
   ],
   "source": [
    "from sklearn.model_selection import cross_val_score\n",
    "from sklearn.linear_model import LogisticRegression\n",
    "from sklearn.tree import DecisionTreeClassifier\n",
    "from sklearn.neighbors import KNeighborsClassifier\n",
    "from sklearn.pipeline import Pipeline\n",
    "\n",
    "X_train, X_test, y_train, y_test = train_test_split(X, y, test_size = .5, random_state=1, stratify=y)\n",
    "\n",
    "clf1 = LogisticRegression(penalty='l2', C = .001, random_state=1)\n",
    "clf2 = DecisionTreeClassifier(max_depth = 1, criterion = 'entropy', random_state = 1)\n",
    "clf3 = KNeighborsClassifier(n_neighbors= 1, p = 2, metric='minkowski')\n",
    "\n",
    "pipe1 = Pipeline([['sc',StandardScaler()],\n",
    "                 ['clf',clf1]])\n",
    "\n",
    "pipe3 = Pipeline([['sc', StandardScaler()],\n",
    "                 ['cls', clf3]])\n",
    "\n",
    "clf_labels = ['LR','DT','KNN']\n",
    "\n",
    "for clf, label in zip([pipe1, clf2, pipe3], clf_labels):\n",
    "    scores = cross_val_score(estimator=clf, X = X_train, y = y_train, cv = 10, scoring='roc_auc')\n",
    "    print(scores.mean(), scores.std(), label)"
   ]
  },
  {
   "cell_type": "code",
   "execution_count": 36,
   "id": "6bd8a99f-b1ad-4546-a74b-98d1ef513f5d",
   "metadata": {},
   "outputs": [
    {
     "name": "stdout",
     "output_type": "stream",
     "text": [
      "ROC AUC:  0.92,  0.15, LR\n",
      "ROC AUC:  0.87,  0.18, DT\n",
      "ROC AUC:  0.85,  0.13, KNN\n",
      "ROC AUC:  0.98,  0.05, Majority voting\n"
     ]
    }
   ],
   "source": [
    "mv_clf = MVC(classifiers=[pipe1, clf2, pipe3])\n",
    "\n",
    "clf_labels +=['Majority voting']\n",
    "all_clf = pipe1, clf2, pipe3, mv_clf\n",
    "\n",
    "for clf, label in zip(all_clf, clf_labels):\n",
    "    scores = cross_val_score(estimator = clf,\n",
    "                            X = X_train,\n",
    "                            y = y_train,\n",
    "                            cv = 10,\n",
    "                            scoring='roc_auc')\n",
    "    \n",
    "    print(f'ROC AUC: {scores.mean(): .2f}, {scores.std(): .2f}, {label}')"
   ]
  },
  {
   "cell_type": "code",
   "execution_count": 37,
   "id": "19ff5647-4793-4469-bad0-36af7b8a67cb",
   "metadata": {},
   "outputs": [
    {
     "data": {
      "text/plain": [
       "<matplotlib.legend.Legend at 0x14df34a2df0>"
      ]
     },
     "execution_count": 37,
     "metadata": {},
     "output_type": "execute_result"
    },
    {
     "data": {
      "image/png": "[encoded data removed]",
      "text/plain": [
       "<Figure size 432x288 with 1 Axes>"
      ]
     },
     "metadata": {
      "needs_background": "light"
     },
     "output_type": "display_data"
    }
   ],
   "source": [
    "from sklearn.metrics import roc_curve, auc\n",
    "\n",
    "colors = ['black','orange','blue','green']\n",
    "linestyles = [':','--','-.','-']\n",
    "for clf, label, clr, ls in zip(all_clf, clf_labels, colors, linestyles):\n",
    "    y_pred = clf.fit(X_train, y_train).predict_proba(X_test)[:,1]\n",
    "    fpr, tpr, thresholds = roc_curve(y_true=y_test, y_score=y_pred)\n",
    "    \n",
    "    roc_auc = auc(x = fpr, y = tpr)\n",
    "    \n",
    "    plt.plot(fpr, tpr, color = clr, linestyle = ls, label = '%s (auc = %.2f)'%(label, roc_auc))\n",
    "    \n",
    "plt.legend()"
   ]
  },
  {
   "cell_type": "code",
   "execution_count": 38,
   "id": "3b620311-f1a1-4bbb-abc6-68d9ebea7e14",
   "metadata": {},
   "outputs": [
    {
     "data": {
      "text/plain": [
       "{'pipeline-1': Pipeline(steps=[('sc', StandardScaler()),\n",
       "                 ['clf', LogisticRegression(C=0.001, random_state=1)]]),\n",
       " 'decisiontreeclassifier': DecisionTreeClassifier(criterion='entropy', max_depth=1, random_state=1),\n",
       " 'pipeline-2': Pipeline(steps=[('sc', StandardScaler()),\n",
       "                 ['cls', KNeighborsClassifier(n_neighbors=1)]]),\n",
       " 'pipeline-1_memory': None,\n",
       " 'pipeline-1_steps': [('sc', StandardScaler()),\n",
       "  ['clf', LogisticRegression(C=0.001, random_state=1)]],\n",
       " 'pipeline-1_verbose': False,\n",
       " 'pipeline-1_sc': StandardScaler(),\n",
       " 'pipeline-1_clf': LogisticRegression(C=0.001, random_state=1),\n",
       " 'pipeline-1_sc__copy': True,\n",
       " 'pipeline-1_sc__with_mean': True,\n",
       " 'pipeline-1_sc__with_std': True,\n",
       " 'pipeline-1_clf__C': 0.001,\n",
       " 'pipeline-1_clf__class_weight': None,\n",
       " 'pipeline-1_clf__dual': False,\n",
       " 'pipeline-1_clf__fit_intercept': True,\n",
       " 'pipeline-1_clf__intercept_scaling': 1,\n",
       " 'pipeline-1_clf__l1_ratio': None,\n",
       " 'pipeline-1_clf__max_iter': 100,\n",
       " 'pipeline-1_clf__multi_class': 'auto',\n",
       " 'pipeline-1_clf__n_jobs': None,\n",
       " 'pipeline-1_clf__penalty': 'l2',\n",
       " 'pipeline-1_clf__random_state': 1,\n",
       " 'pipeline-1_clf__solver': 'lbfgs',\n",
       " 'pipeline-1_clf__tol': 0.0001,\n",
       " 'pipeline-1_clf__verbose': 0,\n",
       " 'pipeline-1_clf__warm_start': False,\n",
       " 'decisiontreeclassifier_ccp_alpha': 0.0,\n",
       " 'decisiontreeclassifier_class_weight': None,\n",
       " 'decisiontreeclassifier_criterion': 'entropy',\n",
       " 'decisiontreeclassifier_max_depth': 1,\n",
       " 'decisiontreeclassifier_max_features': None,\n",
       " 'decisiontreeclassifier_max_leaf_nodes': None,\n",
       " 'decisiontreeclassifier_min_impurity_decrease': 0.0,\n",
       " 'decisiontreeclassifier_min_impurity_split': None,\n",
       " 'decisiontreeclassifier_min_samples_leaf': 1,\n",
       " 'decisiontreeclassifier_min_samples_split': 2,\n",
       " 'decisiontreeclassifier_min_weight_fraction_leaf': 0.0,\n",
       " 'decisiontreeclassifier_random_state': 1,\n",
       " 'decisiontreeclassifier_splitter': 'best',\n",
       " 'pipeline-2_memory': None,\n",
       " 'pipeline-2_steps': [('sc', StandardScaler()),\n",
       "  ['cls', KNeighborsClassifier(n_neighbors=1)]],\n",
       " 'pipeline-2_verbose': False,\n",
       " 'pipeline-2_sc': StandardScaler(),\n",
       " 'pipeline-2_cls': KNeighborsClassifier(n_neighbors=1),\n",
       " 'pipeline-2_sc__copy': True,\n",
       " 'pipeline-2_sc__with_mean': True,\n",
       " 'pipeline-2_sc__with_std': True,\n",
       " 'pipeline-2_cls__algorithm': 'auto',\n",
       " 'pipeline-2_cls__leaf_size': 30,\n",
       " 'pipeline-2_cls__metric': 'minkowski',\n",
       " 'pipeline-2_cls__metric_params': None,\n",
       " 'pipeline-2_cls__n_jobs': None,\n",
       " 'pipeline-2_cls__n_neighbors': 1,\n",
       " 'pipeline-2_cls__p': 2,\n",
       " 'pipeline-2_cls__weights': 'uniform'}"
      ]
     },
     "execution_count": 38,
     "metadata": {},
     "output_type": "execute_result"
    }
   ],
   "source": [
    "import six\n",
    "mv_clf.get_params()"
   ]
  },
  {
   "cell_type": "code",
   "execution_count": 40,
   "id": "8d1b9420-1918-4fd2-954b-df1c36655b25",
   "metadata": {},
   "outputs": [
    {
     "data": {
      "text/plain": [
       "GridSearchCV(cv=10,\n",
       "             estimator=MVC(classifiers=[Pipeline(steps=[('sc',\n",
       "                                                         StandardScaler()),\n",
       "                                                        ['clf',\n",
       "                                                         LogisticRegression(C=0.001,\n",
       "                                                                            random_state=1)]]),\n",
       "                                        DecisionTreeClassifier(criterion='entropy',\n",
       "                                                               max_depth=1,\n",
       "                                                               random_state=1),\n",
       "                                        Pipeline(steps=[('sc',\n",
       "                                                         StandardScaler()),\n",
       "                                                        ['cls',\n",
       "                                                         KNeighborsClassifier(n_neighbors=1)]])]),\n",
       "             param_grid={'decisiontreeclassifier__max_depth': [1, 2],\n",
       "                         'pipeline-1__clf__C': [0.001, 0.1, 100.0]},\n",
       "             scoring='roc_auc')"
      ]
     },
     "execution_count": 40,
     "metadata": {},
     "output_type": "execute_result"
    }
   ],
   "source": [
    "from sklearn.model_selection import GridSearchCV\n",
    "params = {'decisiontreeclassifier__max_depth' : [1,2],\n",
    "         'pipeline-1__clf__C' : [.001, .1, 100.]}\n",
    "grid = GridSearchCV(estimator=mv_clf, param_grid= params, cv = 10, scoring='roc_auc')\n",
    "grid.fit(X_train, y_train)"
   ]
  },
  {
   "cell_type": "code",
   "execution_count": 41,
   "id": "3388b3ec-aa91-47b4-b4c2-969f7713fc6d",
   "metadata": {},
   "outputs": [
    {
     "data": {
      "text/plain": [
       "{'decisiontreeclassifier__max_depth': 1, 'pipeline-1__clf__C': 0.001}"
      ]
     },
     "execution_count": 41,
     "metadata": {},
     "output_type": "execute_result"
    }
   ],
   "source": [
    "grid.best_params_"
   ]
  },
  {
   "cell_type": "code",
   "execution_count": 44,
   "id": "f96b43b3-e4b2-416c-b00f-43973f952a87",
   "metadata": {},
   "outputs": [
    {
     "data": {
      "text/plain": [
       "{'mean_fit_time': array([0.0044229 , 0.00378358, 0.00558269, 0.00450103, 0.00339596,\n",
       "        0.003495  ]),\n",
       " 'std_fit_time': array([0.00137058, 0.00114504, 0.00260927, 0.00252529, 0.00065721,\n",
       "        0.00050504]),\n",
       " 'mean_score_time': array([0.00139976, 0.00131931, 0.00129538, 0.00168798, 0.00099401,\n",
       "        0.00128956]),\n",
       " 'std_score_time': array([4.85767847e-04, 6.30701607e-04, 6.38032741e-04, 6.39929505e-04,\n",
       "        7.90299152e-06, 4.47353031e-04]),\n",
       " 'param_decisiontreeclassifier__max_depth': masked_array(data=[1, 1, 1, 2, 2, 2],\n",
       "              mask=[False, False, False, False, False, False],\n",
       "        fill_value='?',\n",
       "             dtype=object),\n",
       " 'param_pipeline-1__clf__C': masked_array(data=[0.001, 0.1, 100.0, 0.001, 0.1, 100.0],\n",
       "              mask=[False, False, False, False, False, False],\n",
       "        fill_value='?',\n",
       "             dtype=object),\n",
       " 'params': [{'decisiontreeclassifier__max_depth': 1,\n",
       "   'pipeline-1__clf__C': 0.001},\n",
       "  {'decisiontreeclassifier__max_depth': 1, 'pipeline-1__clf__C': 0.1},\n",
       "  {'decisiontreeclassifier__max_depth': 1, 'pipeline-1__clf__C': 100.0},\n",
       "  {'decisiontreeclassifier__max_depth': 2, 'pipeline-1__clf__C': 0.001},\n",
       "  {'decisiontreeclassifier__max_depth': 2, 'pipeline-1__clf__C': 0.1},\n",
       "  {'decisiontreeclassifier__max_depth': 2, 'pipeline-1__clf__C': 100.0}],\n",
       " 'split0_test_score': array([1., 1., 1., 1., 1., 1.]),\n",
       " 'split1_test_score': array([1., 1., 1., 1., 1., 1.]),\n",
       " 'split2_test_score': array([1., 1., 1., 1., 1., 1.]),\n",
       " 'split3_test_score': array([1., 1., 1., 1., 1., 1.]),\n",
       " 'split4_test_score': array([0.83333333, 0.83333333, 0.66666667, 0.83333333, 0.83333333,\n",
       "        0.66666667]),\n",
       " 'split5_test_score': array([1., 1., 1., 1., 1., 1.]),\n",
       " 'split6_test_score': array([1., 1., 1., 1., 1., 1.]),\n",
       " 'split7_test_score': array([1., 1., 1., 1., 1., 1.]),\n",
       " 'split8_test_score': array([1., 1., 1., 1., 1., 1.]),\n",
       " 'split9_test_score': array([1., 1., 1., 1., 1., 1.]),\n",
       " 'mean_test_score': array([0.98333333, 0.98333333, 0.96666667, 0.98333333, 0.98333333,\n",
       "        0.96666667]),\n",
       " 'std_test_score': array([0.05, 0.05, 0.1 , 0.05, 0.05, 0.1 ]),\n",
       " 'rank_test_score': array([1, 1, 5, 1, 1, 5])}"
      ]
     },
     "execution_count": 44,
     "metadata": {},
     "output_type": "execute_result"
    }
   ],
   "source": [
    "grid.cv_results_"
   ]
  },
  {
   "cell_type": "code",
   "execution_count": 46,
   "id": "89f04fbf-1661-46a7-9304-d26096439b43",
   "metadata": {},
   "outputs": [],
   "source": [
    "import pandas as pd\n",
    "df_wine = pd.read_csv('https://archive.ics.uci.edu/ml/machine-learning-databases/wine/wine.data', header = None)"
   ]
  },
  {
   "cell_type": "code",
   "execution_count": 47,
   "id": "79473d78-3b0e-458e-9ada-3ef41384877e",
   "metadata": {},
   "outputs": [
    {
     "data": {
      "text/html": [
       "<div>\n",
       "<style scoped>\n",
       "    .dataframe tbody tr th:only-of-type {\n",
       "        vertical-align: middle;\n",
       "    }\n",
       "\n",
       "    .dataframe tbody tr th {\n",
       "        vertical-align: top;\n",
       "    }\n",
       "\n",
       "    .dataframe thead th {\n",
       "        text-align: right;\n",
       "    }\n",
       "</style>\n",
       "<table border=\"1\" class=\"dataframe\">\n",
       "  <thead>\n",
       "    <tr style=\"text-align: right;\">\n",
       "      <th></th>\n",
       "      <th>0</th>\n",
       "      <th>1</th>\n",
       "      <th>2</th>\n",
       "      <th>3</th>\n",
       "      <th>4</th>\n",
       "      <th>5</th>\n",
       "      <th>6</th>\n",
       "      <th>7</th>\n",
       "      <th>8</th>\n",
       "      <th>9</th>\n",
       "      <th>10</th>\n",
       "      <th>11</th>\n",
       "      <th>12</th>\n",
       "      <th>13</th>\n",
       "    </tr>\n",
       "  </thead>\n",
       "  <tbody>\n",
       "    <tr>\n",
       "      <th>0</th>\n",
       "      <td>1</td>\n",
       "      <td>14.23</td>\n",
       "      <td>1.71</td>\n",
       "      <td>2.43</td>\n",
       "      <td>15.6</td>\n",
       "      <td>127</td>\n",
       "      <td>2.80</td>\n",
       "      <td>3.06</td>\n",
       "      <td>0.28</td>\n",
       "      <td>2.29</td>\n",
       "      <td>5.64</td>\n",
       "      <td>1.04</td>\n",
       "      <td>3.92</td>\n",
       "      <td>1065</td>\n",
       "    </tr>\n",
       "    <tr>\n",
       "      <th>1</th>\n",
       "      <td>1</td>\n",
       "      <td>13.20</td>\n",
       "      <td>1.78</td>\n",
       "      <td>2.14</td>\n",
       "      <td>11.2</td>\n",
       "      <td>100</td>\n",
       "      <td>2.65</td>\n",
       "      <td>2.76</td>\n",
       "      <td>0.26</td>\n",
       "      <td>1.28</td>\n",
       "      <td>4.38</td>\n",
       "      <td>1.05</td>\n",
       "      <td>3.40</td>\n",
       "      <td>1050</td>\n",
       "    </tr>\n",
       "    <tr>\n",
       "      <th>2</th>\n",
       "      <td>1</td>\n",
       "      <td>13.16</td>\n",
       "      <td>2.36</td>\n",
       "      <td>2.67</td>\n",
       "      <td>18.6</td>\n",
       "      <td>101</td>\n",
       "      <td>2.80</td>\n",
       "      <td>3.24</td>\n",
       "      <td>0.30</td>\n",
       "      <td>2.81</td>\n",
       "      <td>5.68</td>\n",
       "      <td>1.03</td>\n",
       "      <td>3.17</td>\n",
       "      <td>1185</td>\n",
       "    </tr>\n",
       "    <tr>\n",
       "      <th>3</th>\n",
       "      <td>1</td>\n",
       "      <td>14.37</td>\n",
       "      <td>1.95</td>\n",
       "      <td>2.50</td>\n",
       "      <td>16.8</td>\n",
       "      <td>113</td>\n",
       "      <td>3.85</td>\n",
       "      <td>3.49</td>\n",
       "      <td>0.24</td>\n",
       "      <td>2.18</td>\n",
       "      <td>7.80</td>\n",
       "      <td>0.86</td>\n",
       "      <td>3.45</td>\n",
       "      <td>1480</td>\n",
       "    </tr>\n",
       "    <tr>\n",
       "      <th>4</th>\n",
       "      <td>1</td>\n",
       "      <td>13.24</td>\n",
       "      <td>2.59</td>\n",
       "      <td>2.87</td>\n",
       "      <td>21.0</td>\n",
       "      <td>118</td>\n",
       "      <td>2.80</td>\n",
       "      <td>2.69</td>\n",
       "      <td>0.39</td>\n",
       "      <td>1.82</td>\n",
       "      <td>4.32</td>\n",
       "      <td>1.04</td>\n",
       "      <td>2.93</td>\n",
       "      <td>735</td>\n",
       "    </tr>\n",
       "    <tr>\n",
       "      <th>...</th>\n",
       "      <td>...</td>\n",
       "      <td>...</td>\n",
       "      <td>...</td>\n",
       "      <td>...</td>\n",
       "      <td>...</td>\n",
       "      <td>...</td>\n",
       "      <td>...</td>\n",
       "      <td>...</td>\n",
       "      <td>...</td>\n",
       "      <td>...</td>\n",
       "      <td>...</td>\n",
       "      <td>...</td>\n",
       "      <td>...</td>\n",
       "      <td>...</td>\n",
       "    </tr>\n",
       "    <tr>\n",
       "      <th>173</th>\n",
       "      <td>3</td>\n",
       "      <td>13.71</td>\n",
       "      <td>5.65</td>\n",
       "      <td>2.45</td>\n",
       "      <td>20.5</td>\n",
       "      <td>95</td>\n",
       "      <td>1.68</td>\n",
       "      <td>0.61</td>\n",
       "      <td>0.52</td>\n",
       "      <td>1.06</td>\n",
       "      <td>7.70</td>\n",
       "      <td>0.64</td>\n",
       "      <td>1.74</td>\n",
       "      <td>740</td>\n",
       "    </tr>\n",
       "    <tr>\n",
       "      <th>174</th>\n",
       "      <td>3</td>\n",
       "      <td>13.40</td>\n",
       "      <td>3.91</td>\n",
       "      <td>2.48</td>\n",
       "      <td>23.0</td>\n",
       "      <td>102</td>\n",
       "      <td>1.80</td>\n",
       "      <td>0.75</td>\n",
       "      <td>0.43</td>\n",
       "      <td>1.41</td>\n",
       "      <td>7.30</td>\n",
       "      <td>0.70</td>\n",
       "      <td>1.56</td>\n",
       "      <td>750</td>\n",
       "    </tr>\n",
       "    <tr>\n",
       "      <th>175</th>\n",
       "      <td>3</td>\n",
       "      <td>13.27</td>\n",
       "      <td>4.28</td>\n",
       "      <td>2.26</td>\n",
       "      <td>20.0</td>\n",
       "      <td>120</td>\n",
       "      <td>1.59</td>\n",
       "      <td>0.69</td>\n",
       "      <td>0.43</td>\n",
       "      <td>1.35</td>\n",
       "      <td>10.20</td>\n",
       "      <td>0.59</td>\n",
       "      <td>1.56</td>\n",
       "      <td>835</td>\n",
       "    </tr>\n",
       "    <tr>\n",
       "      <th>176</th>\n",
       "      <td>3</td>\n",
       "      <td>13.17</td>\n",
       "      <td>2.59</td>\n",
       "      <td>2.37</td>\n",
       "      <td>20.0</td>\n",
       "      <td>120</td>\n",
       "      <td>1.65</td>\n",
       "      <td>0.68</td>\n",
       "      <td>0.53</td>\n",
       "      <td>1.46</td>\n",
       "      <td>9.30</td>\n",
       "      <td>0.60</td>\n",
       "      <td>1.62</td>\n",
       "      <td>840</td>\n",
       "    </tr>\n",
       "    <tr>\n",
       "      <th>177</th>\n",
       "      <td>3</td>\n",
       "      <td>14.13</td>\n",
       "      <td>4.10</td>\n",
       "      <td>2.74</td>\n",
       "      <td>24.5</td>\n",
       "      <td>96</td>\n",
       "      <td>2.05</td>\n",
       "      <td>0.76</td>\n",
       "      <td>0.56</td>\n",
       "      <td>1.35</td>\n",
       "      <td>9.20</td>\n",
       "      <td>0.61</td>\n",
       "      <td>1.60</td>\n",
       "      <td>560</td>\n",
       "    </tr>\n",
       "  </tbody>\n",
       "</table>\n",
       "<p>178 rows × 14 columns</p>\n",
       "</div>"
      ],
      "text/plain": [
       "     0      1     2     3     4    5     6     7     8     9      10    11  \\\n",
       "0     1  14.23  1.71  2.43  15.6  127  2.80  3.06  0.28  2.29   5.64  1.04   \n",
       "1     1  13.20  1.78  2.14  11.2  100  2.65  2.76  0.26  1.28   4.38  1.05   \n",
       "2     1  13.16  2.36  2.67  18.6  101  2.80  3.24  0.30  2.81   5.68  1.03   \n",
       "3     1  14.37  1.95  2.50  16.8  113  3.85  3.49  0.24  2.18   7.80  0.86   \n",
       "4     1  13.24  2.59  2.87  21.0  118  2.80  2.69  0.39  1.82   4.32  1.04   \n",
       "..   ..    ...   ...   ...   ...  ...   ...   ...   ...   ...    ...   ...   \n",
       "173   3  13.71  5.65  2.45  20.5   95  1.68  0.61  0.52  1.06   7.70  0.64   \n",
       "174   3  13.40  3.91  2.48  23.0  102  1.80  0.75  0.43  1.41   7.30  0.70   \n",
       "175   3  13.27  4.28  2.26  20.0  120  1.59  0.69  0.43  1.35  10.20  0.59   \n",
       "176   3  13.17  2.59  2.37  20.0  120  1.65  0.68  0.53  1.46   9.30  0.60   \n",
       "177   3  14.13  4.10  2.74  24.5   96  2.05  0.76  0.56  1.35   9.20  0.61   \n",
       "\n",
       "       12    13  \n",
       "0    3.92  1065  \n",
       "1    3.40  1050  \n",
       "2    3.17  1185  \n",
       "3    3.45  1480  \n",
       "4    2.93   735  \n",
       "..    ...   ...  \n",
       "173  1.74   740  \n",
       "174  1.56   750  \n",
       "175  1.56   835  \n",
       "176  1.62   840  \n",
       "177  1.60   560  \n",
       "\n",
       "[178 rows x 14 columns]"
      ]
     },
     "execution_count": 47,
     "metadata": {},
     "output_type": "execute_result"
    }
   ],
   "source": [
    "df_wine"
   ]
  },
  {
   "cell_type": "code",
   "execution_count": 69,
   "id": "b04a5029-2260-4780-9376-0681d1ba2416",
   "metadata": {},
   "outputs": [],
   "source": [
    "df_wine.columns = ['Class label','Alcohol',' Malic acid', 'Ash', 'Alcalinity of ash', 'Magnesium', 'Total phenols', 'Flavanoids',\n",
    "                  'Nonflavnoid phenols', 'Proanthocyanins', 'Color intensity', 'Hue', 'Diluted wines', 'Proline']\n",
    "\n",
    "df_wine = df_wine[df_wine['Class label'] != 1]\n",
    "y = df_wine['Class label'].values\n",
    "X = df_wine[['Alcohol', 'Diluted wines']].values"
   ]
  },
  {
   "cell_type": "code",
   "execution_count": 70,
   "id": "63515a79-d555-4368-aa75-ecbdcbff088b",
   "metadata": {},
   "outputs": [],
   "source": [
    "le = LabelEncoder()\n",
    "y = le.fit_transform(y)\n",
    "\n",
    "X_train, X_test, y_train, y_test = train_test_split(X, y, test_size= .2, random_state=1, stratify=y)"
   ]
  },
  {
   "cell_type": "code",
   "execution_count": 71,
   "id": "1a9f609d-ad68-46f3-854b-287e38941964",
   "metadata": {},
   "outputs": [],
   "source": [
    "from sklearn.ensemble import BaggingClassifier\n",
    "tree = DecisionTreeClassifier(criterion='entropy', random_state=1, max_depth=None)\n",
    "\n",
    "bag = BaggingClassifier(base_estimator= tree, n_estimators=500, max_samples=1., max_features=1., bootstrap=True, bootstrap_features=False, n_jobs=1, random_state=1)"
   ]
  },
  {
   "cell_type": "code",
   "execution_count": 72,
   "id": "c50d4666-fd89-436d-a298-6adb28186842",
   "metadata": {},
   "outputs": [
    {
     "name": "stdout",
     "output_type": "stream",
     "text": [
      "1.00, 0.83\n"
     ]
    }
   ],
   "source": [
    "from sklearn.metrics import accuracy_score\n",
    "tree = tree.fit(X_train, y_train)\n",
    "y_train_pred = tree.predict(X_train)\n",
    "y_test_pred = tree.predict(X_test)\n",
    "\n",
    "tree_train = accuracy_score(y_train, y_train_pred)\n",
    "tree_test = accuracy_score(y_test, y_test_pred)\n",
    "\n",
    "print(f'{tree_train:.2f}, {tree_test:.2f}')"
   ]
  },
  {
   "cell_type": "code",
   "execution_count": 73,
   "id": "6be8f9b0-f059-4c44-af0e-df0f76eab3ec",
   "metadata": {},
   "outputs": [
    {
     "name": "stdout",
     "output_type": "stream",
     "text": [
      "1.00, 0.92\n"
     ]
    }
   ],
   "source": [
    "bag = bag.fit(X_train, y_train)\n",
    "y_train_pred = bag.predict(X_train)\n",
    "y_test_pred = bag.predict(X_test)\n",
    "\n",
    "bag_train = accuracy_score(y_train, y_train_pred)\n",
    "bag_test = accuracy_score(y_test, y_test_pred)\n",
    "\n",
    "print(f'{bag_train:.2f}, {bag_test:.2f}')"
   ]
  },
  {
   "cell_type": "code",
   "execution_count": 75,
   "id": "8b1919ce-07af-4fa2-9d03-3a155ffde12c",
   "metadata": {},
   "outputs": [
    {
     "name": "stdout",
     "output_type": "stream",
     "text": [
      "0.916,0.875\n"
     ]
    }
   ],
   "source": [
    "from sklearn.ensemble import AdaBoostClassifier\n",
    "tree = DecisionTreeClassifier(criterion='entropy', random_state = 1, max_depth=1)\n",
    "ada = AdaBoostClassifier(base_estimator=tree, n_estimators=500, learning_rate=.1, random_state = 1)\n",
    "\n",
    "\n",
    "tree = tree.fit(X_train, y_train)\n",
    "y_train_pred = tree.predict(X_train)\n",
    "y_test_pred = tree.predict(X_test)\n",
    "\n",
    "tree_train = accuracy_score(y_train, y_train_pred)\n",
    "tree_test = accuracy_score(y_test, y_test_pred)\n",
    "\n",
    "print(f'{tree_train:.3f},{tree_test:.3f}')"
   ]
  },
  {
   "cell_type": "code",
   "execution_count": 76,
   "id": "71b0452b-9230-453e-8032-90c239c22dc2",
   "metadata": {},
   "outputs": [
    {
     "name": "stdout",
     "output_type": "stream",
     "text": [
      "1.000,0.917\n"
     ]
    }
   ],
   "source": [
    "ada = ada.fit(X_train, y_train)\n",
    "y_train_pred = ada.predict(X_train)\n",
    "y_test_pred = ada.predict(X_test)\n",
    "\n",
    "ada_train = accuracy_score(y_train, y_train_pred)\n",
    "ada_test = accuracy_score(y_test, y_test_pred)\n",
    "print(f'{ada_train:.3f},{ada_test:.3f}')"
   ]
  },
  {
   "cell_type": "code",
   "execution_count": null,
   "id": "7ddb9645-9aa9-4031-a328-c528d5a686b2",
   "metadata": {},
   "outputs": [],
   "source": []
  }
 ],
 "metadata": {
  "kernelspec": {
   "display_name": "Python 3",
   "language": "python",
   "name": "python3"
  },
  "language_info": {
   "codemirror_mode": {
    "name": "ipython",
    "version": 3
   },
   "file_extension": ".py",
   "mimetype": "text/x-python",
   "name": "python",
   "nbconvert_exporter": "python",
   "pygments_lexer": "ipython3",
   "version": "3.8.8"
  }
 },
 "nbformat": 4,
 "nbformat_minor": 5
}
