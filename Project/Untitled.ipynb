{
 "cells": [
  {
   "cell_type": "code",
   "execution_count": 17,
   "id": "ecebe174-3875-4dc4-ab94-d0c172656312",
   "metadata": {},
   "outputs": [],
   "source": [
    "import json\n",
    "from tqdm import tqdm\n",
    "import re\n",
    "import pandas as pd\n",
    "import joblib"
   ]
  },
  {
   "cell_type": "code",
   "execution_count": 2,
   "id": "5c80ada2-5824-4333-ad41-fd2fe244478b",
   "metadata": {},
   "outputs": [],
   "source": [
    "data_file = 'arxiv-metadata-oai-snapshot.json'\n",
    "\n",
    "def get_metadata():\n",
    "    with open(data_file, 'r') as f:\n",
    "        for line in f:\n",
    "            yield line"
   ]
  },
  {
   "cell_type": "code",
   "execution_count": 3,
   "id": "587b850b-7c8d-4d87-b125-d62f060b4b59",
   "metadata": {},
   "outputs": [],
   "source": [
    "metadata = get_metadata()\n",
    "titles = []\n",
    "categories = []\n",
    "for paper in metadata:\n",
    "    paper_dict = json.loads(paper)\n",
    "    titles.append(paper_dict.get('title'))\n",
    "    categories.append(paper_dict.get('categories'))"
   ]
  },
  {
   "cell_type": "code",
   "execution_count": 4,
   "id": "27df9c52-33f4-4883-981d-2cd4fbab787d",
   "metadata": {},
   "outputs": [
    {
     "name": "stdout",
     "output_type": "stream",
     "text": [
      "1955945\n",
      "1955945\n"
     ]
    }
   ],
   "source": [
    "print(len(titles))\n",
    "print(len(categories))"
   ]
  },
  {
   "cell_type": "markdown",
   "id": "d4e25ec9-1eac-498f-8d5e-1f0adf472c30",
   "metadata": {},
   "source": [
    "<h3>굉장히 커서 다루기힘든수준임</h3>\n",
    "30000개도 4 epochs에 30분정도걸렸는데 이정도면 사실상 1주일은돌려야함 -> 최신논문들로 짜름"
   ]
  },
  {
   "cell_type": "code",
   "execution_count": 22,
   "id": "e6f0869a-adb2-4921-9d58-da701e1bd7a6",
   "metadata": {},
   "outputs": [],
   "source": [
    "titles = []\n",
    "categories = []\n",
    "years = []\n",
    "refs = []\n",
    "abstracts = []\n",
    "metadata = get_metadata()\n",
    "for paper in metadata:\n",
    "    paper_dict = json.loads(paper)\n",
    "    ref = paper_dict.get('journal-ref')\n",
    "    try:\n",
    "        year = int(re.findall(r'\\((.*?)\\)', ref)[0][-4:])\n",
    "        if 2018 <= year <= 2021:\n",
    "            years.append(year)\n",
    "            refs.append(ref)\n",
    "            titles.append(paper_dict.get('title'))\n",
    "            categories.append(paper_dict.get('categories'))\n",
    "            abstracts.append(paper_dict.get('abstract'))\n",
    "    except:\n",
    "        pass"
   ]
  },
  {
   "cell_type": "code",
   "execution_count": 23,
   "id": "ba91a4b9-ad2c-44bc-b240-1431efa0ead5",
   "metadata": {},
   "outputs": [
    {
     "name": "stdout",
     "output_type": "stream",
     "text": [
      "122767\n",
      "122767\n"
     ]
    }
   ],
   "source": [
    "print(len(titles))\n",
    "print(len(categories))"
   ]
  },
  {
   "cell_type": "code",
   "execution_count": 24,
   "id": "b9a9f3e8-64d9-423b-b90c-1508dd9c1312",
   "metadata": {},
   "outputs": [],
   "source": [
    "def get_major(x):\n",
    "    temp_ = [z.split('.')[0] for z in x.split(' ')]\n",
    "    return '/'.join(list(set(temp_)))"
   ]
  },
  {
   "cell_type": "code",
   "execution_count": 25,
   "id": "5c2f005f-62b3-456f-a119-2dc3d2648e25",
   "metadata": {},
   "outputs": [],
   "source": [
    "major_topic = list(map(get_major, categories))"
   ]
  },
  {
   "cell_type": "code",
   "execution_count": 26,
   "id": "32b24f9b-9fdb-4c1d-890c-8ca9e546bf66",
   "metadata": {},
   "outputs": [],
   "source": [
    "res = pd.DataFrame({'title' : titles, 'major_topic' : major_topic, 'year' : years, 'abstract' : abstracts})"
   ]
  },
  {
   "cell_type": "code",
   "execution_count": 27,
   "id": "02c15ae9-686a-4a02-82d2-b3e366ffb8bc",
   "metadata": {},
   "outputs": [
    {
     "data": {
      "text/html": [
       "<div>\n",
       "<style scoped>\n",
       "    .dataframe tbody tr th:only-of-type {\n",
       "        vertical-align: middle;\n",
       "    }\n",
       "\n",
       "    .dataframe tbody tr th {\n",
       "        vertical-align: top;\n",
       "    }\n",
       "\n",
       "    .dataframe thead th {\n",
       "        text-align: right;\n",
       "    }\n",
       "</style>\n",
       "<table border=\"1\" class=\"dataframe\">\n",
       "  <thead>\n",
       "    <tr style=\"text-align: right;\">\n",
       "      <th></th>\n",
       "      <th>title</th>\n",
       "      <th>major_topic</th>\n",
       "      <th>year</th>\n",
       "      <th>abstract</th>\n",
       "    </tr>\n",
       "  </thead>\n",
       "  <tbody>\n",
       "    <tr>\n",
       "      <th>0</th>\n",
       "      <td>Sobolev regularity of solutions of the cohomol...</td>\n",
       "      <td>math</td>\n",
       "      <td>2021</td>\n",
       "      <td>We refine the theory of the cohomological eq...</td>\n",
       "    </tr>\n",
       "    <tr>\n",
       "      <th>1</th>\n",
       "      <td>Bohmian Mechanics at Space-Time Singularities....</td>\n",
       "      <td>quant-ph</td>\n",
       "      <td>2019</td>\n",
       "      <td>We develop an extension of Bohmian mechanics...</td>\n",
       "    </tr>\n",
       "    <tr>\n",
       "      <th>2</th>\n",
       "      <td>What happens to geometric phase when spin-orbi...</td>\n",
       "      <td>cond-mat</td>\n",
       "      <td>2018</td>\n",
       "      <td>Spin-orbit interaction lifts accidental band...</td>\n",
       "    </tr>\n",
       "    <tr>\n",
       "      <th>3</th>\n",
       "      <td>Reentrant spin glass transition in LuFe2O4</td>\n",
       "      <td>cond-mat</td>\n",
       "      <td>2020</td>\n",
       "      <td>We have carried out a comprehensive investig...</td>\n",
       "    </tr>\n",
       "    <tr>\n",
       "      <th>4</th>\n",
       "      <td>On finiteness of odd superperfect numbers</td>\n",
       "      <td>math</td>\n",
       "      <td>2020</td>\n",
       "      <td>Some new results concerning the equation $\\s...</td>\n",
       "    </tr>\n",
       "    <tr>\n",
       "      <th>...</th>\n",
       "      <td>...</td>\n",
       "      <td>...</td>\n",
       "      <td>...</td>\n",
       "      <td>...</td>\n",
       "    </tr>\n",
       "    <tr>\n",
       "      <th>122762</th>\n",
       "      <td>An explicit zero-free region for the Dirichlet...</td>\n",
       "      <td>math</td>\n",
       "      <td>2018</td>\n",
       "      <td>Let $L(s,\\chi)$ be the Dirichlet $L$-functio...</td>\n",
       "    </tr>\n",
       "    <tr>\n",
       "      <th>122763</th>\n",
       "      <td>Diophantine approximation on planar curves: th...</td>\n",
       "      <td>math</td>\n",
       "      <td>2019</td>\n",
       "      <td>The convergence theory for the set of simult...</td>\n",
       "    </tr>\n",
       "    <tr>\n",
       "      <th>122764</th>\n",
       "      <td>True and fake Lax pairs: how to distinguish them</td>\n",
       "      <td>math/math-ph/nlin</td>\n",
       "      <td>2020</td>\n",
       "      <td>The gauge-invariant description of zero-curv...</td>\n",
       "    </tr>\n",
       "    <tr>\n",
       "      <th>122765</th>\n",
       "      <td>Free Will and Physics</td>\n",
       "      <td>physics</td>\n",
       "      <td>2018</td>\n",
       "      <td>The abstract concept of indeterministic free...</td>\n",
       "    </tr>\n",
       "    <tr>\n",
       "      <th>122766</th>\n",
       "      <td>Large Numbers, the Chinese Remainder Theorem, ...</td>\n",
       "      <td>quant-ph</td>\n",
       "      <td>2020</td>\n",
       "      <td>This is a pedagogical article cited in the f...</td>\n",
       "    </tr>\n",
       "  </tbody>\n",
       "</table>\n",
       "<p>122767 rows × 4 columns</p>\n",
       "</div>"
      ],
      "text/plain": [
       "                                                    title        major_topic  \\\n",
       "0       Sobolev regularity of solutions of the cohomol...               math   \n",
       "1       Bohmian Mechanics at Space-Time Singularities....           quant-ph   \n",
       "2       What happens to geometric phase when spin-orbi...           cond-mat   \n",
       "3              Reentrant spin glass transition in LuFe2O4           cond-mat   \n",
       "4               On finiteness of odd superperfect numbers               math   \n",
       "...                                                   ...                ...   \n",
       "122762  An explicit zero-free region for the Dirichlet...               math   \n",
       "122763  Diophantine approximation on planar curves: th...               math   \n",
       "122764   True and fake Lax pairs: how to distinguish them  math/math-ph/nlin   \n",
       "122765                              Free Will and Physics            physics   \n",
       "122766  Large Numbers, the Chinese Remainder Theorem, ...           quant-ph   \n",
       "\n",
       "        year                                           abstract  \n",
       "0       2021    We refine the theory of the cohomological eq...  \n",
       "1       2019    We develop an extension of Bohmian mechanics...  \n",
       "2       2018    Spin-orbit interaction lifts accidental band...  \n",
       "3       2020    We have carried out a comprehensive investig...  \n",
       "4       2020    Some new results concerning the equation $\\s...  \n",
       "...      ...                                                ...  \n",
       "122762  2018    Let $L(s,\\chi)$ be the Dirichlet $L$-functio...  \n",
       "122763  2019    The convergence theory for the set of simult...  \n",
       "122764  2020    The gauge-invariant description of zero-curv...  \n",
       "122765  2018    The abstract concept of indeterministic free...  \n",
       "122766  2020    This is a pedagogical article cited in the f...  \n",
       "\n",
       "[122767 rows x 4 columns]"
      ]
     },
     "execution_count": 27,
     "metadata": {},
     "output_type": "execute_result"
    }
   ],
   "source": [
    "res"
   ]
  },
  {
   "cell_type": "code",
   "execution_count": 28,
   "id": "7ab00b6f-d22c-4686-b66e-6f7e94e46df7",
   "metadata": {},
   "outputs": [
    {
     "data": {
      "text/plain": [
       "['preprocessed.pickle']"
      ]
     },
     "execution_count": 28,
     "metadata": {},
     "output_type": "execute_result"
    }
   ],
   "source": [
    "joblib.dump(res, 'preprocessed.pickle')"
   ]
  },
  {
   "cell_type": "code",
   "execution_count": 29,
   "id": "38355b83-45b6-4fda-a39f-ded83cd38bb5",
   "metadata": {},
   "outputs": [],
   "source": [
    "preprocessed = joblib.load('preprocessed.pickle')"
   ]
  },
  {
   "cell_type": "code",
   "execution_count": 30,
   "id": "55fb6824-763a-4fd0-b665-0f2be9555fc4",
   "metadata": {},
   "outputs": [
    {
     "data": {
      "text/html": [
       "<div>\n",
       "<style scoped>\n",
       "    .dataframe tbody tr th:only-of-type {\n",
       "        vertical-align: middle;\n",
       "    }\n",
       "\n",
       "    .dataframe tbody tr th {\n",
       "        vertical-align: top;\n",
       "    }\n",
       "\n",
       "    .dataframe thead th {\n",
       "        text-align: right;\n",
       "    }\n",
       "</style>\n",
       "<table border=\"1\" class=\"dataframe\">\n",
       "  <thead>\n",
       "    <tr style=\"text-align: right;\">\n",
       "      <th></th>\n",
       "      <th>title</th>\n",
       "      <th>major_topic</th>\n",
       "      <th>year</th>\n",
       "      <th>abstract</th>\n",
       "    </tr>\n",
       "  </thead>\n",
       "  <tbody>\n",
       "    <tr>\n",
       "      <th>0</th>\n",
       "      <td>Sobolev regularity of solutions of the cohomol...</td>\n",
       "      <td>math</td>\n",
       "      <td>2021</td>\n",
       "      <td>We refine the theory of the cohomological eq...</td>\n",
       "    </tr>\n",
       "    <tr>\n",
       "      <th>1</th>\n",
       "      <td>Bohmian Mechanics at Space-Time Singularities....</td>\n",
       "      <td>quant-ph</td>\n",
       "      <td>2019</td>\n",
       "      <td>We develop an extension of Bohmian mechanics...</td>\n",
       "    </tr>\n",
       "    <tr>\n",
       "      <th>2</th>\n",
       "      <td>What happens to geometric phase when spin-orbi...</td>\n",
       "      <td>cond-mat</td>\n",
       "      <td>2018</td>\n",
       "      <td>Spin-orbit interaction lifts accidental band...</td>\n",
       "    </tr>\n",
       "    <tr>\n",
       "      <th>3</th>\n",
       "      <td>Reentrant spin glass transition in LuFe2O4</td>\n",
       "      <td>cond-mat</td>\n",
       "      <td>2020</td>\n",
       "      <td>We have carried out a comprehensive investig...</td>\n",
       "    </tr>\n",
       "    <tr>\n",
       "      <th>4</th>\n",
       "      <td>On finiteness of odd superperfect numbers</td>\n",
       "      <td>math</td>\n",
       "      <td>2020</td>\n",
       "      <td>Some new results concerning the equation $\\s...</td>\n",
       "    </tr>\n",
       "    <tr>\n",
       "      <th>...</th>\n",
       "      <td>...</td>\n",
       "      <td>...</td>\n",
       "      <td>...</td>\n",
       "      <td>...</td>\n",
       "    </tr>\n",
       "    <tr>\n",
       "      <th>122762</th>\n",
       "      <td>An explicit zero-free region for the Dirichlet...</td>\n",
       "      <td>math</td>\n",
       "      <td>2018</td>\n",
       "      <td>Let $L(s,\\chi)$ be the Dirichlet $L$-functio...</td>\n",
       "    </tr>\n",
       "    <tr>\n",
       "      <th>122763</th>\n",
       "      <td>Diophantine approximation on planar curves: th...</td>\n",
       "      <td>math</td>\n",
       "      <td>2019</td>\n",
       "      <td>The convergence theory for the set of simult...</td>\n",
       "    </tr>\n",
       "    <tr>\n",
       "      <th>122764</th>\n",
       "      <td>True and fake Lax pairs: how to distinguish them</td>\n",
       "      <td>math/math-ph/nlin</td>\n",
       "      <td>2020</td>\n",
       "      <td>The gauge-invariant description of zero-curv...</td>\n",
       "    </tr>\n",
       "    <tr>\n",
       "      <th>122765</th>\n",
       "      <td>Free Will and Physics</td>\n",
       "      <td>physics</td>\n",
       "      <td>2018</td>\n",
       "      <td>The abstract concept of indeterministic free...</td>\n",
       "    </tr>\n",
       "    <tr>\n",
       "      <th>122766</th>\n",
       "      <td>Large Numbers, the Chinese Remainder Theorem, ...</td>\n",
       "      <td>quant-ph</td>\n",
       "      <td>2020</td>\n",
       "      <td>This is a pedagogical article cited in the f...</td>\n",
       "    </tr>\n",
       "  </tbody>\n",
       "</table>\n",
       "<p>122767 rows × 4 columns</p>\n",
       "</div>"
      ],
      "text/plain": [
       "                                                    title        major_topic  \\\n",
       "0       Sobolev regularity of solutions of the cohomol...               math   \n",
       "1       Bohmian Mechanics at Space-Time Singularities....           quant-ph   \n",
       "2       What happens to geometric phase when spin-orbi...           cond-mat   \n",
       "3              Reentrant spin glass transition in LuFe2O4           cond-mat   \n",
       "4               On finiteness of odd superperfect numbers               math   \n",
       "...                                                   ...                ...   \n",
       "122762  An explicit zero-free region for the Dirichlet...               math   \n",
       "122763  Diophantine approximation on planar curves: th...               math   \n",
       "122764   True and fake Lax pairs: how to distinguish them  math/math-ph/nlin   \n",
       "122765                              Free Will and Physics            physics   \n",
       "122766  Large Numbers, the Chinese Remainder Theorem, ...           quant-ph   \n",
       "\n",
       "        year                                           abstract  \n",
       "0       2021    We refine the theory of the cohomological eq...  \n",
       "1       2019    We develop an extension of Bohmian mechanics...  \n",
       "2       2018    Spin-orbit interaction lifts accidental band...  \n",
       "3       2020    We have carried out a comprehensive investig...  \n",
       "4       2020    Some new results concerning the equation $\\s...  \n",
       "...      ...                                                ...  \n",
       "122762  2018    Let $L(s,\\chi)$ be the Dirichlet $L$-functio...  \n",
       "122763  2019    The convergence theory for the set of simult...  \n",
       "122764  2020    The gauge-invariant description of zero-curv...  \n",
       "122765  2018    The abstract concept of indeterministic free...  \n",
       "122766  2020    This is a pedagogical article cited in the f...  \n",
       "\n",
       "[122767 rows x 4 columns]"
      ]
     },
     "execution_count": 30,
     "metadata": {},
     "output_type": "execute_result"
    }
   ],
   "source": [
    "preprocessed"
   ]
  },
  {
   "cell_type": "markdown",
   "id": "20efc56f-d5e9-4723-93b6-e904f2516bd4",
   "metadata": {},
   "source": [
    "<h1>전처리 끝. </h1>"
   ]
  }
 ],
 "metadata": {
  "kernelspec": {
   "display_name": "Python 3",
   "language": "python",
   "name": "python3"
  },
  "language_info": {
   "codemirror_mode": {
    "name": "ipython",
    "version": 3
   },
   "file_extension": ".py",
   "mimetype": "text/x-python",
   "name": "python",
   "nbconvert_exporter": "python",
   "pygments_lexer": "ipython3",
   "version": "3.8.8"
  }
 },
 "nbformat": 4,
 "nbformat_minor": 5
}
